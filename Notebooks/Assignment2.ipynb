{
 "cells": [
  {
   "cell_type": "markdown",
   "metadata": {},
   "source": [
    "# Intro To Machine Learning : Assignment 2"
   ]
  },
  {
   "cell_type": "markdown",
   "metadata": {},
   "source": [
    "## Tasks\n",
    "1. The data set that you need is in one of the sheets of the Excel file Assignment_2_Data_and_Template.xlsx (attached). The other sheets contain shaded cells meant to be filled in by you. Examine the sheets carefully and understand what must be computed or described. Except for cutting and pasting your results in the specific cells provided, do not alter the spreadsheet in any other way. This is the only recognized means of submitting this assignment.\n",
    "2. Construct separate 2D histograms for male and female heights. You decide on the number of bins to use, making sure there is sufficient resolution and bin-filling. Represent height in rows, and handspan in columns -- both in ascending order of magnitude of feature. Do not use a built-in histogram program. \n",
    "3. Find the parameters of two 2D Gaussian models for the 2 PDFs to describe the data. Let the first dimension represent height, and the second dimension represent handspan. You may use built-in functions to compute these parameters, but do not use a built-in function to compute the pdf. \n",
    "4. Based on the histograms and Gaussian models, compute the likely gender (given as the probability of being female) of individuals with measurements as given below (Height in inches, handspan in centimeters). What are your observations?\n",
    "5. Extra credit: Reconstruct a histogram using female model parameters that can be compared to the female histogram constructed in Part 2. Similarly, reconstruct a histogram using male model parameters."
   ]
  },
  {
   "cell_type": "markdown",
   "metadata": {},
   "source": [
    "## Import Excel File"
   ]
  },
  {
   "cell_type": "code",
   "execution_count": 1,
   "metadata": {
    "collapsed": false
   },
   "outputs": [
    {
     "name": "stdout",
     "output_type": "stream",
     "text": [
      "Min height: 57.0\n",
      "Max height: 78.0\n",
      "Min handspan: 16.0\n",
      "Max handspan: 25.5\n",
      "[ 68.  71.  73.]\n",
      "[ 21.5  23.5  22.5]\n",
      "['Female' 'Male' 'Male']\n"
     ]
    }
   ],
   "source": [
    "# Get DataFrom Excel File\n",
    "import pandas as pd\n",
    "import numpy as np\n",
    "file = 'Assignment_2_Data_and_Template.xlsx'\n",
    "xl = pd.ExcelFile(\"../DataFiles/\" + file)\n",
    "df = xl.parse('Data')\n",
    "\n",
    "sexArray = np.array(df.Sex)\n",
    "heightArray = np.array(df.Height)\n",
    "handspanArray = np.array(df.HandSpan)\n",
    "\n",
    "heightArrayMax = heightArray.max()\n",
    "heightArrayMin = heightArray.min()\n",
    "handspanArrayMax = handspanArray.max()\n",
    "handspanArrayMin = handspanArray.min()\n",
    "\n",
    "print (\"Min height: %s\" %heightArrayMin)\n",
    "print (\"Max height: %s\" %heightArrayMax)\n",
    "print (\"Min handspan: %s\" %handspanArrayMin)\n",
    "print (\"Max handspan: %s\" %handspanArrayMax)\n",
    "\n",
    "print (heightArray[0:3])\n",
    "print (handspanArray[0:3])\n",
    "print (sexArray[0:3])"
   ]
  },
  {
   "cell_type": "markdown",
   "metadata": {},
   "source": [
    "## Constructing 2D Histogram"
   ]
  },
  {
   "cell_type": "code",
   "execution_count": 2,
   "metadata": {
    "collapsed": false
   },
   "outputs": [
    {
     "name": "stdout",
     "output_type": "stream",
     "text": [
      "Number of Male Samples: 78\n",
      "Number of Female Samples: 89\n",
      "Number of Bins: 6\n"
     ]
    }
   ],
   "source": [
    "# Rows = height, Cols = handspan, Z = male/female\n",
    "\n",
    "# Determine the number of bins Sturges' Rule\n",
    "numberOfMaleSamples = len([i for i in sexArray if i == 'Male'])\n",
    "numberOfFemaleSamples = len([i for i in sexArray if i == 'Female'])\n",
    "print(\"Number of Male Samples: %s\" %numberOfMaleSamples)\n",
    "print(\"Number of Female Samples: %s\" %numberOfFemaleSamples)\n",
    "\n",
    "numberOfBins = np.log2(78).astype('int32')\n",
    "print(\"Number of Bins: %s\" %numberOfBins)"
   ]
  },
  {
   "cell_type": "code",
   "execution_count": 3,
   "metadata": {
    "collapsed": false
   },
   "outputs": [],
   "source": [
    "# numberofbins = np.log2()\n",
    "\n",
    "\"\"\"\n",
    "Parameters:\n",
    "\"\"\"\n",
    "def CalculateBin (FeatureValue, FeatureMax, FeatureMin, NumberOfBins):\n",
    "    binindex = (np.round(((NumberOfBins-1)*(FeatureValue-FeatureMin)/\n",
    "                          (FeatureMax-FeatureMin)))).astype('int32')\n",
    "    return binindex\n",
    "\n",
    "def Build2DHistogramClassifier(Feat1, Feat2, ClassArray, NumBins1, \n",
    "                               NumBins2, Feat1Max, Feat1Min, \n",
    "                               Feat2Max, Feat2Min):\n",
    "    HM = np.zeros(shape=(NumBins1, NumBins2)).astype('int32')\n",
    "    HF = np.zeros(shape=(NumBins1, NumBins2)).astype('int32')\n",
    "    for i, j, k in zip (Feat1, Feat2, ClassArray) :\n",
    "        row = CalculateBin(i, Feat1Max, Feat1Min, NumBins1)\n",
    "        col = CalculateBin(j, Feat2Max, Feat2Min, NumBins2)\n",
    "        if(k == 'Female'):\n",
    "            HF[row][col] += 1\n",
    "        else:\n",
    "            HM[row][col] += 1\n",
    "            \n",
    "    return [HF, HM]\n",
    "    \n",
    "    "
   ]
  },
  {
   "cell_type": "code",
   "execution_count": 4,
   "metadata": {
    "collapsed": false
   },
   "outputs": [],
   "source": [
    "histograms = Build2DHistogramClassifier(heightArray, handspanArray, sexArray,\n",
    "                          numberOfBins, numberOfBins, \n",
    "                            heightArrayMax, heightArrayMin,\n",
    "                          handspanArrayMax, handspanArrayMin)\n",
    "histF = histograms[0]\n",
    "histM = histograms[1]\n"
   ]
  },
  {
   "cell_type": "code",
   "execution_count": 5,
   "metadata": {
    "collapsed": false
   },
   "outputs": [],
   "source": [
    "writer = pd.ExcelWriter(\"../DataFiles/HistogramData.xlsx\")\n",
    "\n",
    "malehistogramDf = pd.DataFrame(data=histM[0:, 0:])\n",
    "femalehistogramDf = pd.DataFrame(data=histF[0:, 0:])\n",
    "# femalehistogramDf = pd.DataFrame.from_items(histF)\n",
    "\n",
    "malehistogramDf.to_excel(writer, 'maleHistogram')\n",
    "femalehistogramDf.to_excel(writer, 'femaleHistogram')\n",
    "writer.save()"
   ]
  },
  {
   "cell_type": "markdown",
   "metadata": {},
   "source": [
    "## Query Histograms"
   ]
  },
  {
   "cell_type": "code",
   "execution_count": 6,
   "metadata": {
    "collapsed": false
   },
   "outputs": [
    {
     "name": "stdout",
     "output_type": "stream",
     "text": [
      "[0.66666666666666663, 0.5, 0.18518518518518517, 0.125]\n"
     ]
    }
   ],
   "source": [
    "queryArray = [(69, 17.5),\n",
    "             (66, 22),\n",
    "             (70, 21.5),\n",
    "             (69, 23.5)]\n",
    "# queryArray = [(78, 16)]\n",
    "\n",
    "probabilitiesList = []\n",
    "for i in queryArray:\n",
    "    y = CalculateBin(i[0], heightArrayMax, heightArrayMin, 6)\n",
    "    z = CalculateBin(i[1], handspanArrayMax, handspanArrayMin, 6)\n",
    "\n",
    "    femaleNumber = histF[y, z]\n",
    "    maleNumber = histM[y, z]\n",
    "    \n",
    "    probabilitiesList.append(femaleNumber / \n",
    "                             (femaleNumber + maleNumber))\n",
    "print (probabilitiesList)\n"
   ]
  },
  {
   "cell_type": "markdown",
   "metadata": {},
   "source": [
    "## Bayesian"
   ]
  },
  {
   "cell_type": "code",
   "execution_count": 7,
   "metadata": {
    "collapsed": false
   },
   "outputs": [
    {
     "name": "stdout",
     "output_type": "stream",
     "text": [
      "78\n",
      "89\n",
      "Male mean vector [[ 71.28846154  22.30128205]]\n",
      "Female mean vector [[ 65.25280899  19.6011236 ]]\n"
     ]
    },
    {
     "ename": "NameError",
     "evalue": "name 'maleCovMatrix' is not defined",
     "output_type": "error",
     "traceback": [
      "\u001b[0;31m---------------------------------------------------------------------------\u001b[0m",
      "\u001b[0;31mNameError\u001b[0m                                 Traceback (most recent call last)",
      "\u001b[0;32m<ipython-input-7-7a40c906627c>\u001b[0m in \u001b[0;36m<module>\u001b[0;34m()\u001b[0m\n\u001b[1;32m     23\u001b[0m \u001b[0mprint\u001b[0m \u001b[0;34m(\u001b[0m\u001b[0;34m\"Female mean vector\"\u001b[0m\u001b[0;34m,\u001b[0m\u001b[0mfemaleMeanVector\u001b[0m\u001b[0;34m)\u001b[0m\u001b[0;34m\u001b[0m\u001b[0m\n\u001b[1;32m     24\u001b[0m \u001b[0;34m\u001b[0m\u001b[0m\n\u001b[0;32m---> 25\u001b[0;31m \u001b[0mprint\u001b[0m\u001b[0;34m(\u001b[0m\u001b[0;34m\"Male cov matrix:\\n %s\"\u001b[0m\u001b[0;34m%\u001b[0m\u001b[0mmaleCovMatrix\u001b[0m\u001b[0;34m)\u001b[0m\u001b[0;34m\u001b[0m\u001b[0m\n\u001b[0m\u001b[1;32m     26\u001b[0m \u001b[0mprint\u001b[0m\u001b[0;34m(\u001b[0m\u001b[0;34m\"Female cov matrix:\\n %s\"\u001b[0m\u001b[0;34m%\u001b[0m\u001b[0mfemaleCovMatrix\u001b[0m\u001b[0;34m)\u001b[0m\u001b[0;34m\u001b[0m\u001b[0m\n",
      "\u001b[0;31mNameError\u001b[0m: name 'maleCovMatrix' is not defined"
     ]
    }
   ],
   "source": [
    "maleList = []\n",
    "femaleList = []\n",
    "maleHeights = []\n",
    "femaleHeights = []\n",
    "maleHands = []\n",
    "femaleHands = []\n",
    "for i, j, k in zip(heightArray, handspanArray, sexArray) :\n",
    "    if (k == 'Female'):\n",
    "        femaleList.append([i, j, k])\n",
    "        femaleHeights.append(i)\n",
    "        femaleHands.append(j)\n",
    "    else:\n",
    "        maleList.append([i,j,k])\n",
    "        maleHeights.append(i)\n",
    "        maleHands.append(j)\n",
    "print (len(maleList))\n",
    "print(len(femaleList))\n",
    "maleMeanVector = np.matrix([[np.mean(maleHeights) , np.mean(maleHands)]])\n",
    "# maleMeanVector = np.matrix(np.mean(maleHeights), np.mean(maleHands))\n",
    "femaleMeanVector = np.matrix([[np.mean(femaleHeights), np.mean(femaleHands)]])\n",
    "\n",
    "print (\"Male mean vector\",maleMeanVector)\n",
    "print (\"Female mean vector\",femaleMeanVector)\n",
    "\n",
    "print(\"Male cov matrix:\\n %s\"%maleCovMatrix)\n",
    "print(\"Female cov matrix:\\n %s\"%femaleCovMatrix)"
   ]
  },
  {
   "cell_type": "code",
   "execution_count": 8,
   "metadata": {
    "collapsed": false
   },
   "outputs": [],
   "source": [
    "def calculateBayesianProbability(Cov1, Cov2, Query, Mean1, Mean2,\n",
    "                                 Num1, Num2):\n",
    "    x = Num1 * calculatePDF(Cov1, Query, Mean1)\n",
    "    \n",
    "    y = Num2 * calculatePDF(Cov2, Query, Mean2)\n",
    "\n",
    "    \n",
    "    probability = x / (x + y)\n",
    "    return probability\n",
    "\n",
    "def calculatePDF(Cov, Query, Mean) :\n",
    "    return ((1/(2 * np.pi * np.sqrt(np.linalg.det(Cov)))) * \n",
    "            np.exp(-(1/2) *(np.subtract(Query, Mean)) * np.linalg.inv(Cov) * \n",
    "                  np.subtract(Query, Mean).transpose()))\n"
   ]
  },
  {
   "cell_type": "code",
   "execution_count": 279,
   "metadata": {
    "collapsed": false,
    "scrolled": true
   },
   "outputs": [
    {
     "name": "stdout",
     "output_type": "stream",
     "text": [
      "[[ 0.0564518]]\n",
      "[[ 0.0564518]]\n"
     ]
    }
   ],
   "source": [
    "query = np.matrix([[69, 23.5]])\n",
    "\n",
    "f= calculateBayesianProbability(femaleCovMatrix, maleCovMatrix, query,\n",
    "                            femaleMeanVector, maleMeanVector,\n",
    "                            numberOfFemaleSamples, numberOfMaleSamples)\n",
    "# m= calculateBayesianProbability( maleCovMatrix, femaleCovMatrix, [71, 22],\n",
    "#                             maleMeanVector,femaleMeanVector,\n",
    "#                             numberOfMaleSamples, numberOfFemaleSamples )\n",
    "# print(f)\n",
    "print(f)\n",
    "print(\"%s\"%f)\n"
   ]
  },
  {
   "cell_type": "code",
   "execution_count": null,
   "metadata": {
    "collapsed": true
   },
   "outputs": [],
   "source": []
  },
  {
   "cell_type": "code",
   "execution_count": null,
   "metadata": {
    "collapsed": true
   },
   "outputs": [],
   "source": []
  }
 ],
 "metadata": {
  "kernelspec": {
   "display_name": "Python 3",
   "language": "python",
   "name": "python3"
  },
  "language_info": {
   "codemirror_mode": {
    "name": "ipython",
    "version": 3
   },
   "file_extension": ".py",
   "mimetype": "text/x-python",
   "name": "python",
   "nbconvert_exporter": "python",
   "pygments_lexer": "ipython3",
   "version": "3.6.0"
  }
 },
 "nbformat": 4,
 "nbformat_minor": 2
}
