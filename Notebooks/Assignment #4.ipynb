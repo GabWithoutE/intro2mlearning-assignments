{
 "cells": [
  {
   "cell_type": "code",
   "execution_count": 1,
   "metadata": {
    "collapsed": false
   },
   "outputs": [
    {
     "name": "stdout",
     "output_type": "stream",
     "text": [
      "6600\n",
      "[[ 652   11  390    1    0   46]\n",
      " [   0  739    0  270    0   91]\n",
      " [ 216    0  872    0    0   12]\n",
      " [  15  532    2  176    0  375]\n",
      " [   0    7    0    0 1090    3]\n",
      " [  30  256    9   76    4  725]]\n",
      "[[3229   71]\n",
      " [1150 2150]]\n"
     ]
    },
    {
     "name": "stderr",
     "output_type": "stream",
     "text": [
      "/Users/gabrielchen/anaconda3/lib/python3.6/site-packages/ipykernel/__main__.py:80: VisibleDeprecationWarning: using a non-integer number instead of an integer will result in an error in the future\n"
     ]
    }
   ],
   "source": [
    "import pandas as pd\n",
    "import numpy as np\n",
    "file = 'Assignment_4_Data_and_Template copy.xlsx'\n",
    "xl = pd.ExcelFile(\"./\" + file)\n",
    "df = xl.parse('Training Data')\n",
    "\n",
    "binarydatalabels = np.array(df.Failure)\n",
    "typedatalabels = np.array(df.Type)\n",
    "typedatalabelslist = list(typedatalabels)\n",
    "tdlexpanded = []\n",
    "for i in typedatalabelslist :\n",
    "    if i == 0 :\n",
    "        tdlexpanded.append([+1, -1, -1, -1 ,-1, -1])\n",
    "    if i == 1 :\n",
    "        tdlexpanded.append([-1, +1, -1, -1 ,-1, -1])\n",
    "    if i == 2 :\n",
    "        tdlexpanded.append([-1, -1, +1, -1 ,-1, -1])\n",
    "    if i == 3 :\n",
    "        tdlexpanded.append([-1, -1, -1, +1, -1, -1])\n",
    "    if i == 4 :\n",
    "        tdlexpanded.append([-1, -1, -1 ,-1, +1, -1])\n",
    "    if i == 5 :\n",
    "        tdlexpanded.append([-1, -1, -1 ,-1, -1, +1])\n",
    "\n",
    "expandedarray = np.array(tdlexpanded)\n",
    "# print (tdlexpanded)\n",
    "df2 = xl.parse('Training Data', )\n",
    "df2 = df2.drop(labels='Type',axis=1)\n",
    "df2 = df2.drop(labels='Failure',axis=1)\n",
    "featurevectors = np.array(df2.values)\n",
    "# print(featurevectors)\n",
    "# print (df2)\n",
    "\n",
    "binaryclassifier = np.dot(np.linalg.pinv(featurevectors), binarydatalabels)\n",
    "multiclassifier = np.dot(np.linalg.pinv(featurevectors), expandedarray)\n",
    "\n",
    "# print (binaryclassifier)\n",
    "# print (multiclassifier)\n",
    "\n",
    "df3 = xl.parse('To be classified')\n",
    "df3 = df3.drop(labels='Type',axis=1)\n",
    "df3 = df3.drop(labels='Failure',axis=1)\n",
    "# print(df3)\n",
    "testingVectors = np.array(df3.values)\n",
    "# print (testingVectors)\n",
    "results = []\n",
    "for i in testingVectors :\n",
    "    results.append(np.sign(np.dot(i, binaryclassifier)))\n",
    "# print (results)\n",
    "resultsa = []\n",
    "for i in testingVectors :\n",
    "    resultsa.append(np.dot(i, multiclassifier).argmax(axis=0))\n",
    "# test_multi_validation = np.dot(test_Xa, multi_W).argmax(axis=1)\n",
    "# print (resultsa)\n",
    "rrrrr = []\n",
    "for i in featurevectors:\n",
    "    rrrrr.append(np.dot(i, multiclassifier).argmax(axis=0))\n",
    "# print (rrrrr)\n",
    "multiconfusionresults = np.zeros([6, 6], dtype=int)\n",
    "hi = 0\n",
    "for i in rrrrr :\n",
    "    hi +=1\n",
    "print (hi)\n",
    "for i, j in zip(rrrrr, typedatalabelslist):\n",
    "#     print (i)\n",
    "#     print (j)\n",
    "    multiconfusionresults[j][i] += 1\n",
    "asdf = []\n",
    "for i in featurevectors:\n",
    "    asdf.append(np.sign(np.dot(i, binaryclassifier)))\n",
    "\n",
    "print(multiconfusionresults)\n",
    "\n",
    "binaryconfusionresults = np.zeros([2, 2], dtype=int)\n",
    "for i, j in zip (asdf, binarydatalabels) :\n",
    "    if (i == -1) :\n",
    "        i = 0\n",
    "    if (j == -1) :\n",
    "        j = 0\n",
    "    binaryconfusionresults[j][i] += 1\n",
    "\n",
    "print (binaryconfusionresults)\n",
    "\n",
    "# har = 0\n",
    "# for i in binaryconfusionresults:\n",
    "#     har += i\n",
    "# print (har)\n"
   ]
  },
  {
   "cell_type": "code",
   "execution_count": null,
   "metadata": {
    "collapsed": true
   },
   "outputs": [],
   "source": []
  }
 ],
 "metadata": {
  "kernelspec": {
   "display_name": "Python 3",
   "language": "python",
   "name": "python3"
  },
  "language_info": {
   "codemirror_mode": {
    "name": "ipython",
    "version": 3
   },
   "file_extension": ".py",
   "mimetype": "text/x-python",
   "name": "python",
   "nbconvert_exporter": "python",
   "pygments_lexer": "ipython3",
   "version": "3.6.0"
  }
 },
 "nbformat": 4,
 "nbformat_minor": 2
}
