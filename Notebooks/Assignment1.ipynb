{
 "cells": [
  {
   "cell_type": "markdown",
   "metadata": {
    "collapsed": true
   },
   "source": [
    "# Introduction To Machine Learning in Python : Assignment 1"
   ]
  },
  {
   "cell_type": "markdown",
   "metadata": {},
   "source": [
    "## Instructions\n",
    "1. The data set that you need is in one of the sheets of the Excel file Assignment_1_Data_and_Template.xlsx (attached). The other sheets contain shaded cells meant to be filled in by you. Examine the sheets carefully and understand what must be computed or described. Except for cutting and pasting your results in the specific cells provided, do not alter the spreadsheet in any other way. This is the only recognized means of submitting this assignment.\n",
    "2. Construct separate histograms for male and female heights using 32 bins. Do not use a built in histogram program. Also remember that the histograms are the 2 lists of 32 counts that you enter into the correct place in the spreadsheet. They are not just pretty pictures!\n",
    "3. Based on the histograms, compute the probability of being female of individuals with heights 55, 60, 65, 70, 75 and 80 inches.\n",
    "4. Find the parameters of Gaussian models for the 2 PDFs to describe the data. You may use built in functions to compute the model parameters.\n",
    "5. Use the Bayesian Formula with the model parameters found above to re-compute the probability of being female of individuals with heights 55, 60, 65, 70, 75 and 80 inches. Do not use a built in function for computing the pdf.\n",
    "6. Repeat steps 2 through 5 using just the first 50 height entries in the data file. Now what are your observations regarding histogram classifiers and Bayesian classifiers?"
   ]
  },
  {
   "cell_type": "markdown",
   "metadata": {},
   "source": [
    "## Constructing Histograms Classifier"
   ]
  },
  {
   "cell_type": "code",
   "execution_count": 1,
   "metadata": {
    "collapsed": true
   },
   "outputs": [],
   "source": [
    "\"\"\"\n",
    "Function for constructing a histogram by building an array \n",
    "where indices represents bins with counts.\n",
    "Returns: Histograms for Male and Female\n",
    "\n",
    "Parameters:\n",
    "    X = feature array\n",
    "    T = class label array\n",
    "    B = number of bins\n",
    "    xmin = feature range minimum\n",
    "    xmax = feature range maximum\n",
    "\"\"\"\n",
    "import numpy as np\n",
    "\n",
    "def Build1DHistogramClassifier(X,T,B,xmin,xmax):\n",
    "    HF = np.zeros(B).astype('int32')\n",
    "    HM = np.zeros(B).astype('int32')\n",
    "    binindices = (np.round(((B-1)*(X-xmin)/(xmax-xmin)))).astype('int32')\n",
    "    for i,b in enumerate(binindices):\n",
    "        if T[i]=='Female':\n",
    "            HF[b]+=1\n",
    "        else:\n",
    "            HM[b]+=1\n",
    "    return [HF, HM]"
   ]
  },
  {
   "cell_type": "code",
   "execution_count": 2,
   "metadata": {
    "collapsed": false,
    "scrolled": true
   },
   "outputs": [
    {
     "name": "stdout",
     "output_type": "stream",
     "text": [
      "[array([3, 0, 0, 0, 0, 0, 0, 0, 0, 0, 0, 0, 0, 0, 0, 0, 0, 0, 0, 0, 0, 0, 0,\n",
      "       0, 0, 0, 0, 0, 0, 1, 0, 1], dtype=int32), array([0, 0, 0, 0, 0, 0, 0, 0, 0, 0, 0, 1, 0, 0, 0, 0, 0, 2, 0, 0, 0, 0, 0,\n",
      "       0, 0, 0, 0, 0, 0, 0, 0, 0], dtype=int32)]\n"
     ]
    }
   ],
   "source": [
    "# Example Constructing Histogram\n",
    "hi = np.zeros(32).astype('int32')\n",
    "\n",
    "classLabelArray = np.array(['Female','Male','Female','Female',\n",
    "                            'Male','Female','Female','Male'])\n",
    "featureArray = np.array([67, 50, 40, 65, 55, 40, 40, 55])\n",
    "\n",
    "out = Build1DHistogramClassifier(featureArray, classLabelArray, 32, \n",
    "                                 40, 67)\n",
    "print(out)"
   ]
  },
  {
   "cell_type": "markdown",
   "metadata": {},
   "source": [
    "## Building Histogram Classifiers from the Dataset"
   ]
  },
  {
   "cell_type": "code",
   "execution_count": 15,
   "metadata": {
    "collapsed": false
   },
   "outputs": [],
   "source": [
    "# Get DataFrom Excel File\n",
    "import pandas as pd\n",
    "file = 'Assignment_1_Data_and_Template.xlsx'\n",
    "xl = 0\n",
    "try:\n",
    "    xl = pd.ExcelFile(\"./DataFiles/\" + file)\n",
    "except FileNotFoundError as error:\n",
    "    xl = pd.ExcelFile(\n",
    "        '../DataFiles/'  + file)\n",
    "\n",
    "df = xl.parse('Data')\n",
    "\n",
    "genderArray = np.array(df.Gender.values.tolist())\n",
    "\n",
    "heightArray = np.array((df.Height_Feet * 12) + df.Height_Inches)"
   ]
  },
  {
   "cell_type": "code",
   "execution_count": 16,
   "metadata": {
    "collapsed": false
   },
   "outputs": [
    {
     "name": "stdout",
     "output_type": "stream",
     "text": [
      "52\n",
      "83\n",
      "[array([   3,    5,   12,   24,   44,  101,  163,  260,  404,  549,  693,\n",
      "        869, 1076, 1013,  951,  823,  695,  494,  299,  217,  110,   58,\n",
      "         20,   12,    5,    0,    0,    0,    0,    0,    0,    0], dtype=int32), array([  0,   0,   0,   0,   0,   0,   0,   0,   1,  10,  14,  53, 117,\n",
      "       241, 369, 500, 700, 787, 849, 882, 873, 779, 610, 432, 274, 155,\n",
      "        83,  38,  24,   5,   3,   1], dtype=int32)]\n"
     ]
    }
   ],
   "source": [
    "# Build Histogram Classifier for the Dataset\n",
    "histograms = Build1DHistogramClassifier(X = heightArray,T = genderArray\n",
    "                           ,B = 32,xmin = heightArray.min(),\n",
    "                           xmax=heightArray.max())\n",
    "print(heightArray.min())\n",
    "print(heightArray.max())\n",
    "print(histograms)\n"
   ]
  },
  {
   "cell_type": "code",
   "execution_count": null,
   "metadata": {
    "collapsed": false
   },
   "outputs": [],
   "source": []
  }
 ],
 "metadata": {
  "kernelspec": {
   "display_name": "Python 3",
   "language": "python",
   "name": "python3"
  },
  "language_info": {
   "codemirror_mode": {
    "name": "ipython",
    "version": 3
   },
   "file_extension": ".py",
   "mimetype": "text/x-python",
   "name": "python",
   "nbconvert_exporter": "python",
   "pygments_lexer": "ipython3",
   "version": "3.6.0"
  }
 },
 "nbformat": 4,
 "nbformat_minor": 0
}
