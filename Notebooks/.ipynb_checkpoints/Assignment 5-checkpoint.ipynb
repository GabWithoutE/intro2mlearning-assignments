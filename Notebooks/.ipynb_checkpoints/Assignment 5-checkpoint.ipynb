{
 "cells": [
  {
   "cell_type": "code",
   "execution_count": 62,
   "metadata": {
    "collapsed": false
   },
   "outputs": [],
   "source": [
    "import pandas as pd\n",
    "file = 'Harry.xlsx'\n",
    "xl = 0\n",
    "try:\n",
    "    xl = pd.ExcelFile(\"./DataFiles/\" + file)\n",
    "except FileNotFoundError as error:\n",
    "    xl = pd.ExcelFile(\n",
    "        '../DataFiles/'  + file)\n",
    "\n",
    "df = xl.parse('Data')\n",
    "\n",
    "import numpy as np\n",
    "heightFeetArray = np.array(df.Height_Feet)\n",
    "heightInchesArray = np.array(df.Height_Inches)\n",
    "genderArray = list(df.Gender)"
   ]
  },
  {
   "cell_type": "code",
   "execution_count": 46,
   "metadata": {
    "collapsed": false
   },
   "outputs": [],
   "source": [
    "heightArray = (heightFeetArray * 12) + heightInchesArray"
   ]
  },
  {
   "cell_type": "code",
   "execution_count": 103,
   "metadata": {
    "collapsed": false
   },
   "outputs": [
    {
     "name": "stdout",
     "output_type": "stream",
     "text": [
      "16700.0\n",
      "[[ 52.  -1.]\n",
      " [ 52.  -1.]\n",
      " [ 52.  -1.]\n",
      " ..., \n",
      " [ 82.   1.]\n",
      " [ 82.   1.]\n",
      " [ 83.   1.]]\n"
     ]
    }
   ],
   "source": [
    "print(33400/2)\n",
    "femaleCL = -1\n",
    "maleCL = 1\n",
    "plusMinusList = list()\n",
    "for i in genderArray :\n",
    "    if i == 'Female' :\n",
    "        plusMinusList.append(-1)\n",
    "    else :\n",
    "        plusMinusList.append(1)\n",
    "        \n",
    "useThis = np.empty([16700,2])\n",
    "counter = 0\n",
    "for i, j in zip(heightArray, plusMinusList) :\n",
    "    useThis[counter][0] = i\n",
    "    useThis[counter][1] = j\n",
    "    counter += 1\n",
    "useThis.sort(axis = 0)\n",
    "\n",
    "print(useThis)\n",
    "\n"
   ]
  },
  {
   "cell_type": "code",
   "execution_count": 118,
   "metadata": {
    "collapsed": false
   },
   "outputs": [
    {
     "name": "stdout",
     "output_type": "stream",
     "text": [
      "N = 16700.0\n",
      "Tn = 8900\n",
      "Tp = 7800\n",
      "initImpurity = 0.2489153429667611\n",
      "tau = 52.0\n",
      "optimalImpurity = 0.00011972977909855756\n",
      "Delta = 0.24879561318766255\n",
      "tau optimal = 68.0\n",
      "Xa = [[ 1.  1.]\n",
      " [ 1.  1.]\n",
      " [ 1.  1.]\n",
      " ..., \n",
      " [ 1.  1.]\n",
      " [ 1. -1.]\n",
      " [ 1. -1.]]\n",
      "[-9.90505892  0.14566241]\n"
     ]
    }
   ],
   "source": [
    "# N = sortedHeightClassPairedArray.size /2\n",
    "print(\"N =\",N)\n",
    "NasInt = int(N)\n",
    "Tn = np.count_nonzero(plusMinusArray == -1)\n",
    "print (\"Tn =\", Tn)\n",
    "\n",
    "Tp = np.count_nonzero(plusMinusArray == 1)\n",
    "print(\"Tp =\", Tp)\n",
    "\n",
    "\n",
    "optimalImpurity = (Tn * Tp) / (N * N)\n",
    "initImpurity = (Tn * Tp) / (N * N)\n",
    "\n",
    "print(\"initImpurity =\",initImpurity)\n",
    "\n",
    "initTau = useThis[0][0]\n",
    "tau = initTau\n",
    "print(\"tau =\",tau)\n",
    "\n",
    "An = 0\n",
    "Ap = 0\n",
    "for i in range(2, NasInt):\n",
    "#     print(sortedHeightClassPairedArray[i])\n",
    "    if useThis[i][1] == -1 :\n",
    "        An += 1\n",
    "    else :\n",
    "        Ap += 1\n",
    "    currImpurity = (1/N) * (((An * Ap) / (An + Ap)) + (((Tn - An)*(Tp - Ap))/(Tn + Tp - An - Ap)))\n",
    "    if currImpurity < optimalImpurity:\n",
    "        optimalImpurity = currImpurity\n",
    "        tau = useThis[i][0]\n",
    "    \n",
    "print(\"optimalImpurity =\",optimalImpurity)\n",
    "delta = initImpurity - optimalImpurity\n",
    "print(\"Delta =\", delta)\n",
    "print(\"tau optimal =\", tau)\n",
    "\n",
    "T = heightInchesArray\n",
    "# print(\"T =\",T)\n",
    "\n",
    "X = np.array(plusMinusArray)\n",
    "X.shape = (NasInt,1)\n",
    "\n",
    "a = np.ones(NasInt)\n",
    "a.shape = (NasInt, 1)\n",
    "Xa = np.hstack((a, X))\n",
    "print(\"Xa =\",Xa)\n",
    "\n",
    "heightArray.shape = (NasInt,1)\n",
    "hA = np.hstack((a, heightArray))\n",
    "Wq = np.dot(np.linalg.pinv(hA),plusMinusArray)\n",
    "print(Wq)"
   ]
  },
  {
   "cell_type": "code",
   "execution_count": 115,
   "metadata": {
    "collapsed": false
   },
   "outputs": [
    {
     "name": "stdout",
     "output_type": "stream",
     "text": [
      "-1.48975395824e-05\n"
     ]
    }
   ],
   "source": [
    "print(Wq[0] + (Wq[1] * 68))"
   ]
  },
  {
   "cell_type": "code",
   "execution_count": 7,
   "metadata": {
    "collapsed": false
   },
   "outputs": [
    {
     "data": {
      "image/png": "[encoded data removed]",
      "text/plain": [
       "<matplotlib.figure.Figure at 0x10451b7b8>"
      ]
     },
     "metadata": {},
     "output_type": "display_data"
    }
   ],
   "source": [
    "import pylab as pl\n",
    "x = np.r_[52:83]\n",
    "pl.plot(x, W[1] * x + W[0])\n",
    "pl.grid()\n",
    "pl.show()"
   ]
  },
  {
   "cell_type": "code",
   "execution_count": null,
   "metadata": {
    "collapsed": true
   },
   "outputs": [],
   "source": []
  },
  {
   "cell_type": "code",
   "execution_count": null,
   "metadata": {
    "collapsed": true
   },
   "outputs": [],
   "source": []
  }
 ],
 "metadata": {
  "kernelspec": {
   "display_name": "Python 3",
   "language": "python",
   "name": "python3"
  },
  "language_info": {
   "codemirror_mode": {
    "name": "ipython",
    "version": 3
   },
   "file_extension": ".py",
   "mimetype": "text/x-python",
   "name": "python",
   "nbconvert_exporter": "python",
   "pygments_lexer": "ipython3",
   "version": "3.6.0"
  }
 },
 "nbformat": 4,
 "nbformat_minor": 2
}
