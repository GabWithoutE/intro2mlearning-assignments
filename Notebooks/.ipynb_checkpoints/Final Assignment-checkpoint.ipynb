{
 "cells": [
  {
   "cell_type": "code",
   "execution_count": 13,
   "metadata": {
    "collapsed": false,
    "scrolled": true
   },
   "outputs": [
    {
     "name": "stdout",
     "output_type": "stream",
     "text": [
      "1701\n",
      "pc1Max 4.298325766\n",
      "pc2Max 4.170138609\n",
      "pc1Min -5.847188649\n",
      "pc2Min -4.291547965\n",
      "numISamples 557\n",
      "numLSamples 558\n",
      "numWSamples 586\n",
      "numberOfBins 9\n",
      "567\n",
      "507\n",
      "60\n",
      "0.8941798941798942\n",
      "[[ 188.   35.    3.]\n",
      " [  10.  161.    4.]\n",
      " [   0.    7.  159.]]\n",
      "iHistogram\n",
      " [[  0   0   0   0   0   0   0   0   0]\n",
      " [  0   0   0   0   0   0   0   0   0]\n",
      " [  0   1   1   0   0   0   0   0   0]\n",
      " [  0   2  20   3   0   0   0   0   0]\n",
      " [  0   6  32  38  15   0   0   0   0]\n",
      " [  0   0   4  65  59   7   0   0   0]\n",
      " [  0   0   0   7  64 138  24   0   0]\n",
      " [  0   0   0   0   0  11  28  32   0]\n",
      " [  0   0   0   0   0   0   0   0   0]]\n",
      "lHistogram\n",
      " [[  0   0   0   0   0   0   0   0   0]\n",
      " [  0   0   2   0   0   0   0   0   0]\n",
      " [  0   1   3   4   0   0   0   0   0]\n",
      " [  2  12  14  13   4   1   0   0   0]\n",
      " [  3   8  19  18   5   2   0   0   0]\n",
      " [  1  34  19  12   4   0   0   0   0]\n",
      " [  0  14  79  54   0   0   0   0   0]\n",
      " [  0   0  13  80 102   9   0   0   0]\n",
      " [  0   0   0   0   1  13  12   0   0]]\n",
      "wHistogram\n",
      " [[ 0  0  2  7  6  0  0  0  0]\n",
      " [ 0  4  8 10 36  8  0  0  0]\n",
      " [ 0  0 10 18 54 68 10  0  0]\n",
      " [ 0  0  2 12 22 88 65 26  0]\n",
      " [ 0  0  0  0  5  5 24 54  8]\n",
      " [ 0  0  0  0  0  0  0  9 20]\n",
      " [ 0  0  0  0  0  0  0  0  5]\n",
      " [ 0  0  0  0  0  0  0  0  0]\n",
      " [ 0  0  0  0  0  0  0  0  0]]\n"
     ]
    },
    {
     "name": "stderr",
     "output_type": "stream",
     "text": [
      "/Users/gabrielchen/anaconda3/lib/python3.6/site-packages/ipykernel/__main__.py:9: RuntimeWarning: invalid value encountered in int_scalars\n",
      "/Users/gabrielchen/anaconda3/lib/python3.6/site-packages/ipykernel/__main__.py:10: RuntimeWarning: invalid value encountered in int_scalars\n",
      "/Users/gabrielchen/anaconda3/lib/python3.6/site-packages/ipykernel/__main__.py:11: RuntimeWarning: invalid value encountered in int_scalars\n"
     ]
    }
   ],
   "source": [
    "import pandas as pd\n",
    "import numpy as np\n",
    "df = pd.read_csv(\"../DataFiles/LeCunn_TrainDataNormPCA_ILW.csv\")\n",
    "\n",
    "# print (df)\n",
    "classificationArray = list(df.Class)\n",
    "print(len(classificationArray))\n",
    "# print (classificationArray)\n",
    "pc1Array = np.array(df.First)\n",
    "pc2Array = np.array(df.Second)\n",
    "\n",
    "# print(pc1Array)\n",
    "# print(pc2Array)\n",
    "pc1Max = pc1Array.max()\n",
    "print(\"pc1Max\",pc1Max)\n",
    "pc2Max = pc2Array.max()\n",
    "print(\"pc2Max\",pc2Max)\n",
    "pc1Min = pc1Array.min()\n",
    "print(\"pc1Min\", pc1Min)\n",
    "pc2Min = pc2Array.min()\n",
    "print(\"pc2Min\", pc2Min)\n",
    "\n",
    "numISamples = list(classificationArray).count(\"I\")\n",
    "print(\"numISamples\",numISamples)\n",
    "numLSamples = list(classificationArray).count(\"L\")\n",
    "print(\"numLSamples\", numLSamples)\n",
    "numWSamples = list(classificationArray).count(\"W\")\n",
    "print(\"numWSamples\", numWSamples)\n",
    "\n",
    "numberOfBins = np.log2(numISamples).astype('int32')\n",
    "print (\"numberOfBins\", numberOfBins)\n",
    "\n",
    "iHistogram, lHistogram, wHistogram = build2DHistogramClassifier(numberOfBins, pc1Array, pc2Array, classificationArray)\n",
    "\n",
    "df1 = pd.read_csv(\"../DataFiles/LeCunn_TestDataNormPCA_ILW.csv\")\n",
    "testPc1Array = np.array(df1.First)\n",
    "testPc2Array = np.array(df1.Second)\n",
    "testClassificationArray = list(df1.Class)\n",
    "\n",
    "result = query (iHistogram, lHistogram, wHistogram, pc1Max, pc2Max, pc1Min, pc2Min, numberOfBins, testPc1Array, testPc2Array)\n",
    "print (len(result))\n",
    "# print(result)\n",
    "\n",
    "correct = 0\n",
    "wrong = 0\n",
    "for i, j in zip(result, testClassificationArray) :\n",
    "    if (i == j):\n",
    "        correct += 1\n",
    "    else :\n",
    "        wrong += 1\n",
    "print (correct)\n",
    "print (wrong)\n",
    "print (correct / (correct + wrong))\n",
    "confusionMatrix = np.zeros([3,3])\n",
    "\n",
    "for (i, j) in zip (result, testClassificationArray):\n",
    "    row = -1\n",
    "    col = -1\n",
    "    if (i == \"I\"):\n",
    "        row = 0\n",
    "    elif (i == \"L\"):\n",
    "        row = 1\n",
    "    elif (i == \"W\"):\n",
    "        row = 2\n",
    "    \n",
    "    if (j == \"I\"):\n",
    "        col = 0\n",
    "    elif (j == \"L\"):\n",
    "        col = 1\n",
    "    elif (j == \"W\"):\n",
    "        col = 2\n",
    "    if (row != -1 or col != -1) :\n",
    "        confusionMatrix[row][col] +=1\n",
    "\n",
    "print(confusionMatrix)\n",
    "\n",
    "print (\"iHistogram\\n\",iHistogram)\n",
    "print(\"lHistogram\\n\",lHistogram)\n",
    "print(\"wHistogram\\n\", wHistogram)"
   ]
  },
  {
   "cell_type": "code",
   "execution_count": 8,
   "metadata": {
    "collapsed": true
   },
   "outputs": [],
   "source": [
    "def query (histI, histL, histW, pc1max, pc2max, pc1min, pc2min, bincount, pc1, pc2) :\n",
    "    results = list()\n",
    "    for i, j in zip (pc1, pc2):\n",
    "        x = CalculateBin(i, pc1max, pc1min, bincount)\n",
    "        y = CalculateBin(j, pc2max, pc2min, bincount)\n",
    "        histIValue = histI[x][y]\n",
    "        histLValue = histL[x][y]\n",
    "        histWValue = histW[x][y]\n",
    "        probI = histIValue / (histIValue + histLValue + histWValue)\n",
    "        probL = histLValue / (histIValue + histLValue + histWValue)\n",
    "        probW = histWValue / (histIValue + histLValue + histWValue)\n",
    "        largestProb = max (probI, probL, probW)\n",
    "        if(largestProb == probI):\n",
    "            results.append(\"I\")\n",
    "        elif (largestProb == probL):\n",
    "            results.append(\"L\")\n",
    "        elif (largestProb == probW):\n",
    "            results.append(\"W\")\n",
    "        else :\n",
    "            results.append(\"Undefined\")\n",
    "    return results\n",
    "            "
   ]
  },
  {
   "cell_type": "code",
   "execution_count": 2,
   "metadata": {
    "collapsed": true
   },
   "outputs": [],
   "source": [
    "def histogramQueryEr (QueryMatrix, mu, eigen1, eigen2, pc1max, pc1min, pc2max, pc2min, bincount, iHist, lHist, wHist) :\n",
    "    results = list()\n",
    "    for queries in QueryMatrix :\n",
    "        p1test, p2test, z = convertQuery(queries, mu, eigen1, eigen2)\n",
    "        popo = queryHistogram(p1test, p2test, posClassi, pc1max, pc2max, pc1min, pc2min, bincount)\n",
    "        negneg = queryHistogram(p1test, p2test, negClassi, pc1max, pc2max, pc1min, pc2min, bincount)\n",
    "        if (popo / (popo+negneg) > negneg / (popo+negneg)) :\n",
    "            results.append(8)\n",
    "        else :\n",
    "            results.append(1)\n",
    "    return results"
   ]
  },
  {
   "cell_type": "code",
   "execution_count": 6,
   "metadata": {
    "collapsed": false
   },
   "outputs": [],
   "source": [
    "def build2DHistogramClassifier(bincount, pc1, pc2,\n",
    "                               classlabels):\n",
    "    pc1max = pc1.max()\n",
    "    pc2max = pc2.max()\n",
    "    pc1min = pc1.min()\n",
    "    pc2min = pc2.min()\n",
    "\n",
    "    iClass = np.zeros(shape=(bincount,bincount)).astype('int32')\n",
    "    lClass = np.zeros(shape=(bincount,bincount)).astype('int32')\n",
    "    wClass = np.zeros(shape=(bincount,bincount)).astype('int32')\n",
    "    \n",
    "    for i, j, k in zip (pc1, pc2, classlabels) :\n",
    "        \n",
    "        row = CalculateBin(i, pc1max, pc1min, bincount)\n",
    "        col = CalculateBin(j, pc2max, pc2min, bincount)\n",
    "        if(k == \"I\"):\n",
    "            iClass[row][col] += 1\n",
    "        elif (k == \"L\"):\n",
    "            lClass[row][col] += 1\n",
    "        elif (k == \"W\"):\n",
    "            wClass[row][col] += 1\n",
    "\n",
    "            \n",
    "    return iClass, lClass, wClass"
   ]
  },
  {
   "cell_type": "code",
   "execution_count": 4,
   "metadata": {
    "collapsed": true
   },
   "outputs": [],
   "source": [
    "def CalculateBin (FeatureValue, FeatureMax, FeatureMin, NumberOfBins):\n",
    "    binindex = (np.round(((NumberOfBins-1)*(FeatureValue-FeatureMin)/\n",
    "                          (FeatureMax-FeatureMin)))).astype('int32')\n",
    "    return binindex"
   ]
  },
  {
   "cell_type": "code",
   "execution_count": null,
   "metadata": {
    "collapsed": true
   },
   "outputs": [],
   "source": []
  },
  {
   "cell_type": "code",
   "execution_count": null,
   "metadata": {
    "collapsed": true
   },
   "outputs": [],
   "source": []
  }
 ],
 "metadata": {
  "kernelspec": {
   "display_name": "Python 3",
   "language": "python",
   "name": "python3"
  },
  "language_info": {
   "codemirror_mode": {
    "name": "ipython",
    "version": 3
   },
   "file_extension": ".py",
   "mimetype": "text/x-python",
   "name": "python",
   "nbconvert_exporter": "python",
   "pygments_lexer": "ipython3",
   "version": "3.6.0"
  }
 },
 "nbformat": 4,
 "nbformat_minor": 2
}
