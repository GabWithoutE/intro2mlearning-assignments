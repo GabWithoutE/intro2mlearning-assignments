{
 "cells": [
  {
   "cell_type": "code",
   "execution_count": 96,
   "metadata": {
    "collapsed": false
   },
   "outputs": [
    {
     "ename": "ValueError",
     "evalue": "axis(=1) out of bounds",
     "output_type": "error",
     "traceback": [
      "\u001b[0;31m---------------------------------------------------------------------------\u001b[0m",
      "\u001b[0;31mValueError\u001b[0m                                Traceback (most recent call last)",
      "\u001b[0;32m<ipython-input-96-ec965a6c423a>\u001b[0m in \u001b[0;36m<module>\u001b[0;34m()\u001b[0m\n\u001b[1;32m     50\u001b[0m \u001b[0mresultsa\u001b[0m \u001b[0;34m=\u001b[0m \u001b[0;34m[\u001b[0m\u001b[0;34m]\u001b[0m\u001b[0;34m\u001b[0m\u001b[0m\n\u001b[1;32m     51\u001b[0m \u001b[0;32mfor\u001b[0m \u001b[0mi\u001b[0m \u001b[0;32min\u001b[0m \u001b[0mtestingVectors\u001b[0m \u001b[0;34m:\u001b[0m\u001b[0;34m\u001b[0m\u001b[0m\n\u001b[0;32m---> 52\u001b[0;31m     \u001b[0mresultsa\u001b[0m\u001b[0;34m.\u001b[0m\u001b[0mappend\u001b[0m\u001b[0;34m(\u001b[0m\u001b[0mnp\u001b[0m\u001b[0;34m.\u001b[0m\u001b[0msign\u001b[0m\u001b[0;34m(\u001b[0m\u001b[0mnp\u001b[0m\u001b[0;34m.\u001b[0m\u001b[0mdot\u001b[0m\u001b[0;34m(\u001b[0m\u001b[0mi\u001b[0m\u001b[0;34m,\u001b[0m \u001b[0mmulticlassifier\u001b[0m\u001b[0;34m)\u001b[0m\u001b[0;34m.\u001b[0m\u001b[0margmax\u001b[0m\u001b[0;34m(\u001b[0m\u001b[0maxis\u001b[0m\u001b[0;34m=\u001b[0m\u001b[0;36m1\u001b[0m\u001b[0;34m)\u001b[0m\u001b[0;34m)\u001b[0m\u001b[0;34m)\u001b[0m\u001b[0;34m\u001b[0m\u001b[0m\n\u001b[0m\u001b[1;32m     53\u001b[0m \u001b[0mresultsfinal\u001b[0m \u001b[0;34m=\u001b[0m \u001b[0;34m[\u001b[0m\u001b[0;34m]\u001b[0m\u001b[0;34m\u001b[0m\u001b[0m\n\u001b[1;32m     54\u001b[0m \u001b[0mprint\u001b[0m \u001b[0;34m(\u001b[0m\u001b[0mresultsa\u001b[0m\u001b[0;34m)\u001b[0m\u001b[0;34m\u001b[0m\u001b[0m\n",
      "\u001b[0;31mValueError\u001b[0m: axis(=1) out of bounds"
     ]
    }
   ],
   "source": [
    "import pandas as pd\n",
    "import numpy as np\n",
    "file = 'Assignment_4_Data_and_Template copy.xlsx'\n",
    "xl = pd.ExcelFile(\"./\" + file)\n",
    "df = xl.parse('Training Data')\n",
    "\n",
    "binarydatalabels = np.array(df.Failure)\n",
    "typedatalabels = np.array(df.Type)\n",
    "typedatalabelslist = list(typedatalabels)\n",
    "tdlexpanded = []\n",
    "for i in typedatalabelslist :\n",
    "    if i == 0 :\n",
    "        tdlexpanded.append([+1, -1, -1, -1 ,-1, -1])\n",
    "    if i == 1 :\n",
    "        tdlexpanded.append([-1, +1, -1, -1 ,-1, -1])\n",
    "    if i == 2 :\n",
    "        tdlexpanded.append([-1, -1, +1, -1 ,-1, -1])\n",
    "    if i == 3 :\n",
    "        tdlexpanded.append([-1, -1, -1, +1, -1, -1])\n",
    "    if i == 4 :\n",
    "        tdlexpanded.append([-1, -1, -1 ,-1, +1, -1])\n",
    "    if i == 5 :\n",
    "        tdlexpanded.append([-1, -1, -1 ,-1, -1, +1])\n",
    "\n",
    "expandedarray = np.array(tdlexpanded)\n",
    "# print (tdlexpanded)\n",
    "df2 = xl.parse('Training Data', )\n",
    "df2 = df2.drop(labels='Type',axis=1)\n",
    "df2 = df2.drop(labels='Failure',axis=1)\n",
    "featurevectors = np.array(df2.values)\n",
    "# print(featurevectors)\n",
    "# print (df2)\n",
    "\n",
    "binaryclassifier = np.dot(np.linalg.pinv(featurevectors), binarydatalabels)\n",
    "multiclassifier = np.dot(np.linalg.pinv(featurevectors), expandedarray)\n",
    "\n",
    "# print (binaryclassifier)\n",
    "# print (multiclassifier)\n",
    "\n",
    "df3 = xl.parse('To be classified')\n",
    "df3 = df3.drop(labels='Type',axis=1)\n",
    "df3 = df3.drop(labels='Failure',axis=1)\n",
    "# print(df3)\n",
    "testingVectors = np.array(df3.values)\n",
    "# print (testingVectors)\n",
    "results = []\n",
    "for i in testingVectors :\n",
    "    results.append(np.sign(np.dot(i, binaryclassifier)))\n",
    "# print (results)\n",
    "resultsa = []\n",
    "for i in testingVectors :\n",
    "    resultsa.append(np.sign(np.dot(i, multiclassifier).argmax(axis=1)))\n",
    "\n",
    "resultsfinal = []\n",
    "print (resultsa)\n",
    "for i in resultsa :\n",
    "    print(i)\n",
    "    if i.tolist() == [+1, -1, -1, -1 ,-1, -1] :\n",
    "        resultsfinal.append(0)\n",
    "    if i.tolist() == [ -1,+1, -1, -1 ,-1, -1] :\n",
    "        resultsfinal.append(1)\n",
    "    if i.tolist() == [ -1, -1,+1, -1 ,-1, -1] :\n",
    "        resultsfinal.append(2)\n",
    "    if i.tolist() == [ -1, -1, -1 ,+1,-1, -1] :\n",
    "        resultsfinal.append(3)\n",
    "    if i.tolist() == [ -1, -1, -1 ,-1,+1, -1] :\n",
    "        resultsfinal.append(4)\n",
    "    if i.tolist() == [-1, -1, -1 ,-1, -1, +1] :\n",
    "        resultsfinal.append(5)\n",
    "        \n",
    "    \n",
    "print(resultsfinal)"
   ]
  },
  {
   "cell_type": "code",
   "execution_count": null,
   "metadata": {
    "collapsed": true
   },
   "outputs": [],
   "source": []
  }
 ],
 "metadata": {
  "kernelspec": {
   "display_name": "Python 3",
   "language": "python",
   "name": "python3"
  },
  "language_info": {
   "codemirror_mode": {
    "name": "ipython",
    "version": 3
   },
   "file_extension": ".py",
   "mimetype": "text/x-python",
   "name": "python",
   "nbconvert_exporter": "python",
   "pygments_lexer": "ipython3",
   "version": "3.6.0"
  }
 },
 "nbformat": 4,
 "nbformat_minor": 2
}
