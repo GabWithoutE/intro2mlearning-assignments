{
 "cells": [
  {
   "cell_type": "markdown",
   "metadata": {},
   "source": [
    "# Intro to Machine Learning: Assignment 3"
   ]
  },
  {
   "cell_type": "markdown",
   "metadata": {},
   "source": [
    "## Requirements\n",
    "This assignment calls for using principal component analysis and histogram/Bayesian concepts for classifier design and evaluation. Use the attached Excel spreadsheet Assignment_3_ Submission_Template.xlsxPreview the documentView in a new window as a template to report your results (an .ods version is available as well). Except for cutting and pasting your results, do not alter the spreadsheet in any other way. This is the only recognized means of submitting this assignment. An extra sheet has been provided just in case you wish to make [optional] interesting observations.<br/><br/>\n",
    "\n",
    "Read through the instructions and examine the spreadsheet carefully and understand what must be computed or described. Enjoy the transition from \"I have been exposed to machine learning\" to \"I am becoming quite good at machine learning!\"<br/><br/>\n",
    "\n",
    "1. Import handwritten digit data from yann.lecun.com/exdb/mnist (four files). You only need the training data for this assignment. Refer to the Python code suggested in Read_MNIST.htmlView in a new window to read and parse the data.\n",
    "2. Prepare the data you will use for this assignment by limiting the imported data to two specific digits. The exact two digits that you will use for the rest of the assignment is given in a table following these instructions. The positive and negative class labels have also been identified for you.\n",
    "3. Prepare your X matrix and target vector T\n",
    "4. Go through the XZCVP procedure to produce P which is the 2D approximation to X. The mean vector (mu) and two eigenvectors (v1, v2) calculated in completing this step must also be entered into the Excel template attached. You will also need to pastea picture of the 2D scatterplot showing the two classes.\n",
    "5. Optional: Write a program, call a builtin function or use the “manual” procedure explained in class to convert any given 784 element feature vector in X to an image. No submission is required.\n",
    "6. Optional: Visually verify that the corresponding element of P, when projected back to 784 dimensions and visualized as an image still looks like the original image. That is, visually verify that reduction in dimension does not significantly compromise the identity of the samples. No submission is required.\n",
    "7. Build a histogram classifier and a Bayesian classifier (both 2D) assuming that the feature vectors are distributed normally in the reduced dimensional space. Note: All the specifications needed to apply the classifiers must be entered into the Excel template attached. For the histogram classifier, the specifications include the ranges (min, max) covered by the two features, number of bins (fixed for you at 25x25), and the histogram counts. For the Bayesian classifier, the specifications include the number of samples in the two classes, the mean vectors and covariance matrices. In order to use either classifier on a 784D query, the mean vectors and eigenvectors (Step 4 above) are needed.\n",
    "8. Exhibit any one representative positive feature vector xp and the corresponding mean-subtracted vector (zp), 2D representation (pp), reconstructed mean-subtracted vector (rp), and reconstructed mean-adjusted vector (xrecp). Do the same for any one representative negative feature vector xn.\n",
    "9. Run xp and xn through both the classifiers and record the results (e.g. what is xp recognized as? With what probability? See the Excel sheet to understand how to report the results.)\n",
    "10. Evaluate the training accuracy of your two classifiers (2D histogram and Bayesian) and record the results.<br/><br/>\n",
    "\n",
    "Note: The helpful document PCA_Simple_Example.htmlView in a new window has been provided for guidance in implementing the XZCVPR process. Also see the slide titled \"How do I ace Assignment 3?\""
   ]
  },
  {
   "cell_type": "markdown",
   "metadata": {},
   "source": [
    "## Read MINST"
   ]
  },
  {
   "cell_type": "code",
   "execution_count": 1,
   "metadata": {
    "collapsed": true
   },
   "outputs": [],
   "source": [
    "import os, struct\n",
    "import matplotlib as plt\n",
    "from array import array as pyarray\n",
    "from numpy import append, array, int8, uint8, zeros as np\n",
    "\n",
    "def load_mnist(dataset=\"training\", digits=range(10), path='/intro2mlearning-assignments/DataFiles/MNISTFiles'):\n",
    "#     path = os.path.join(os.path.expanduser('~'), 'path1')\n",
    "    \"\"\"\n",
    "    Adapted from: http://cvxopt.org/applications/svm/index.html?highlight=mnist\n",
    "    \"\"\"\n",
    "\n",
    "    if dataset == \"training\":\n",
    "        fname_img = os.path.join(path, 'train-images.idx3-ubyte')\n",
    "        fname_lbl = os.path.join(path, 'train-labels.idx1-ubyte')\n",
    "    elif dataset == \"testing\":\n",
    "        fname_img = os.path.join(path, 't10k-images.idx3-ubyte')\n",
    "        fname_lbl = os.path.join(path, 't10k-labels.idx1-ubyte')\n",
    "    else:\n",
    "        raise ValueError(\"dataset must be 'testing' or 'training'\")\n",
    "\n",
    "    flbl = open(fname_lbl, 'rb')\n",
    "    magic_nr, size = struct.unpack(\">II\", flbl.read(8))\n",
    "    lbl = pyarray(\"b\", flbl.read())\n",
    "    flbl.close()\n",
    "\n",
    "    fimg = open(fname_img, 'rb')\n",
    "    magic_nr, size, rows, cols = struct.unpack(\">IIII\", fimg.read(16))\n",
    "    img = pyarray(\"B\", fimg.read())\n",
    "    fimg.close()\n",
    "\n",
    "    ind = [ k for k in range(size) if lbl[k] in digits ]\n",
    "    N = len(ind)\n",
    "\n",
    "    images = zeros((N, rows, cols), dtype=uint8)\n",
    "    labels = zeros((N, 1), dtype=int8)\n",
    "    for i in range(len(ind)):\n",
    "        images[i] = array(img[ ind[i]*rows*cols : (ind[i]+1)*rows*cols ]).reshape((rows, cols))\n",
    "        labels[i] = lbl[ind[i]]\n",
    "\n",
    "    return images, labels"
   ]
  },
  {
   "cell_type": "code",
   "execution_count": 2,
   "metadata": {
    "collapsed": false
   },
   "outputs": [
    {
     "data": {
      "text/plain": [
       "True"
      ]
     },
     "execution_count": 2,
     "metadata": {},
     "output_type": "execute_result"
    }
   ],
   "source": [
    "# os.path.curdir\n",
    "# os.path.exists(os.path.curdir)\n",
    "# os.path.exists(os.path.join('..', '/DataFiles/MNISTFiles'))\n",
    "os.path.exists('../DataFiles/MNISTFiles/train-labels.idx1-ubyte')"
   ]
  },
  {
   "cell_type": "code",
   "execution_count": 3,
   "metadata": {
    "collapsed": false
   },
   "outputs": [],
   "source": [
    "from pylab import *\n",
    "from numpy import *\n",
    "import scipy.sparse as sparse\n",
    "import scipy.linalg as linalg\n",
    "\n",
    "images, labels = load_mnist('training', digits=[1,8], path='../DataFiles/MNISTFiles')\n",
    "# converting from NX28X28 array into NX784 array\n",
    "flatimages = list()\n",
    "for i in images:\n",
    "    flatimages.append(i.ravel())\n",
    "X = np.asarray(flatimages)"
   ]
  },
  {
   "cell_type": "markdown",
   "metadata": {},
   "source": [
    "## X"
   ]
  },
  {
   "cell_type": "code",
   "execution_count": 4,
   "metadata": {
    "collapsed": false
   },
   "outputs": [
    {
     "name": "stdout",
     "output_type": "stream",
     "text": [
      "Check shape of matrix (12593, 784)\n",
      "Check Mins and Max Values 0 255\n",
      "\n",
      "Check training vector by plotting image \n",
      "\n"
     ]
    },
    {
     "data": {
      "image/png": "[encoded data removed]",
      "text/plain": [
       "<matplotlib.figure.Figure at 0x10d23d6a0>"
      ]
     },
     "metadata": {},
     "output_type": "display_data"
    }
   ],
   "source": [
    "print(\"Check shape of matrix\", X.shape)\n",
    "print(\"Check Mins and Max Values\",np.amin(X),np.amax(X))\n",
    "print(\"\\nCheck training vector by plotting image \\n\")\n",
    "plt.imshow(X[20].reshape(28, 28),interpolation='None', cmap=cm.gray)\n",
    "show()\n",
    "# print(X[20])"
   ]
  },
  {
   "cell_type": "code",
   "execution_count": 5,
   "metadata": {
    "collapsed": false
   },
   "outputs": [
    {
     "name": "stdout",
     "output_type": "stream",
     "text": [
      "Check shape of transpose (784, 12593)\n"
     ]
    }
   ],
   "source": [
    "XTranspose = X.transpose()\n",
    "print(\"Check shape of transpose\", XTranspose.shape)"
   ]
  },
  {
   "cell_type": "markdown",
   "metadata": {},
   "source": [
    "## Z"
   ]
  },
  {
   "cell_type": "code",
   "execution_count": 6,
   "metadata": {
    "collapsed": false
   },
   "outputs": [
    {
     "name": "stdout",
     "output_type": "stream",
     "text": [
      "shape of mu should be number of bins (features in feature vector): (784,)\n"
     ]
    }
   ],
   "source": [
    "mu=np.mean(X,axis = 0)\n",
    "print(\"shape of mu should be number of bins (features in feature vector):\", mu.shape)"
   ]
  },
  {
   "cell_type": "code",
   "execution_count": 7,
   "metadata": {
    "collapsed": true
   },
   "outputs": [],
   "source": [
    "Z=X-mu"
   ]
  },
  {
   "cell_type": "markdown",
   "metadata": {},
   "source": [
    "## C"
   ]
  },
  {
   "cell_type": "code",
   "execution_count": 8,
   "metadata": {
    "collapsed": true
   },
   "outputs": [],
   "source": [
    "C=np.cov(Z,rowvar=False)"
   ]
  },
  {
   "cell_type": "markdown",
   "metadata": {},
   "source": [
    "## V"
   ]
  },
  {
   "cell_type": "code",
   "execution_count": 9,
   "metadata": {
    "collapsed": false
   },
   "outputs": [],
   "source": [
    "import numpy.linalg as LA\n",
    "[lambDa, V] = LA.eigh(C)\n",
    "# print (V)\n",
    "lambDa=np.flipud(lambDa)\n",
    "V=np.flipud(V.transpose())\n",
    "row=V[0,:]\n",
    "# np.dot(C,row)/(lambDa[0] * row)\n",
    "# print (V[0])"
   ]
  },
  {
   "cell_type": "markdown",
   "metadata": {},
   "source": [
    "## P"
   ]
  },
  {
   "cell_type": "code",
   "execution_count": 10,
   "metadata": {
    "collapsed": false
   },
   "outputs": [],
   "source": [
    "P=np.dot(Z,V.transpose())"
   ]
  },
  {
   "cell_type": "markdown",
   "metadata": {},
   "source": [
    "## R"
   ]
  },
  {
   "cell_type": "code",
   "execution_count": 11,
   "metadata": {
    "collapsed": false
   },
   "outputs": [],
   "source": [
    "R=np.dot(P,V)"
   ]
  },
  {
   "cell_type": "markdown",
   "metadata": {},
   "source": [
    "## Xrec"
   ]
  },
  {
   "cell_type": "code",
   "execution_count": 12,
   "metadata": {
    "collapsed": false
   },
   "outputs": [
    {
     "name": "stdout",
     "output_type": "stream",
     "text": [
      "[[ 0.  0.  0. ...,  0.  0.  0.]\n",
      " [ 0.  0.  0. ...,  0.  0.  0.]\n",
      " [ 0.  0.  0. ...,  0.  0.  0.]\n",
      " ..., \n",
      " [ 0.  0.  0. ...,  0.  0.  0.]\n",
      " [ 0.  0.  0. ...,  0.  0.  0.]\n",
      " [ 0.  0.  0. ...,  0.  0.  0.]]\n"
     ]
    }
   ],
   "source": [
    "Xrec = R + mu\n",
    "print(Xrec - X)"
   ]
  },
  {
   "cell_type": "markdown",
   "metadata": {},
   "source": [
    "## Dimension Reduction"
   ]
  },
  {
   "cell_type": "code",
   "execution_count": 13,
   "metadata": {
    "collapsed": false
   },
   "outputs": [
    {
     "name": "stdout",
     "output_type": "stream",
     "text": [
      "(12593, 784)\n",
      "hi [ -177.01262488 -1123.38369215]\n",
      "(12593, 784)\n",
      "(12593, 784)\n"
     ]
    },
    {
     "data": {
      "image/png": "[encoded data removed]",
      "text/plain": [
       "<matplotlib.figure.Figure at 0x1077e5ba8>"
      ]
     },
     "metadata": {},
     "output_type": "display_data"
    }
   ],
   "source": [
    "Xrec1=(np.dot(P[:,0:1],V[0:1,:]))+mu\n",
    "# print(V[0:1,:])\n",
    "\n",
    "print(Xrec1.shape)\n",
    "Xrec2=(np.dot(P[:,0:2],V[0:2,:]))+mu\n",
    "print(\"hi\",P[:,0:2][0])\n",
    "print(Xrec2.shape)\n",
    "Xrec3=(np.dot(P[:,0:3],V[0:3,:]))+mu\n",
    "print(Xrec3.shape)\n",
    "Xrec784=(np.dot(P[:,0:784],V[0:784,:]))+mu\n",
    "plt.imshow(Xrec1[20].reshape(28, 28),interpolation='None', cmap=cm.gray)\n",
    "show()"
   ]
  },
  {
   "cell_type": "markdown",
   "metadata": {},
   "source": [
    "## Excel Writer"
   ]
  },
  {
   "cell_type": "code",
   "execution_count": 14,
   "metadata": {
    "collapsed": false
   },
   "outputs": [
    {
     "name": "stdout",
     "output_type": "stream",
     "text": [
      "(12593,)\n"
     ]
    },
    {
     "data": {
      "image/png": "[encoded data removed]",
      "text/plain": [
       "<matplotlib.figure.Figure at 0x107b250b8>"
      ]
     },
     "metadata": {},
     "output_type": "display_data"
    }
   ],
   "source": [
    "#Note that T contains class labels labeln and labelp (e.g. 5 & 6)\n",
    "labeln = 1\n",
    "labelp = 8\n",
    "# print(labels)\n",
    "print(labels[0:,0].shape)\n",
    "T = labels[0:,0]\n",
    "cols=zeros((alen(T),4));\n",
    "cols[T==labeln]=[1,0,0,0.25];\n",
    "cols[T==labelp]=[0,1,0,0.25];\n",
    "randomorder=permutation(arange(alen(T))); \n",
    "#Don't worry about this stuff. Just makes a pretty picture\n",
    " \n",
    "fig = figure()\n",
    "ax = fig.add_subplot(111, facecolor='black')\n",
    "ax.scatter(P[randomorder,1],P[randomorder,0],s=5,linewidths=0,facecolors=cols[randomorder,:],marker=\"o\");\n",
    "ax.set_aspect('equal');\n",
    "gca().invert_yaxis();\n",
    "show()"
   ]
  },
  {
   "cell_type": "markdown",
   "metadata": {},
   "source": [
    "## 2D Histogram Classifier"
   ]
  },
  {
   "cell_type": "code",
   "execution_count": 15,
   "metadata": {
    "collapsed": false
   },
   "outputs": [
    {
     "name": "stdout",
     "output_type": "stream",
     "text": [
      "[-177.01262488 -486.95502974 -701.57667656 ..., -414.414857    714.0689667\n",
      "  360.63653596]\n",
      "[-1123.38369215   953.72782595   722.54538116 ...,  -625.66148309\n",
      "    72.30827959  -418.43557808]\n"
     ]
    }
   ],
   "source": [
    "Pc1List = P[:,0:1][:,0]\n",
    "print(Pc1List)\n",
    "\n",
    "Pc2List = P[:,1:2][:,0]\n",
    "print(Pc2List)\n",
    "\n",
    "Pc1Max = Pc1List.max()\n",
    "Pc2Max = Pc2List.max()\n",
    "\n",
    "Pc1Min = Pc1List.min()\n",
    "Pc2Min = Pc2List.min()\n",
    "\n",
    "def CalculateBin (FeatureValue, FeatureMax, FeatureMin, NumberOfBins):\n",
    "    binindex = (np.round(((NumberOfBins-1)*(FeatureValue-FeatureMin)/\n",
    "                          (FeatureMax-FeatureMin)))).astype('int32')\n",
    "    return binindex\n",
    "\n",
    "def build2DHistogramClassifier(bincount, pc1, pc2,\n",
    "                               classlabels):\n",
    "    pc1max = pc1.max()\n",
    "    pc2max = pc2.max()\n",
    "    pc1min = pc1.min()\n",
    "    pc2min = pc2.min()\n",
    "    \n",
    "    print (\"pc1 max: \", pc1max)\n",
    "    print (\"pc1 min: \", pc1min)\n",
    "    print (\"pc2 max: \", pc2max)\n",
    "    print (\"pc2 min: \", pc2min)\n",
    "\n",
    "\n",
    "    HPosClass = np.zeros(shape=(bincount,bincount)).astype('int32')\n",
    "    HNegClass = np.zeros(shape=(bincount,bincount)).astype('int32')\n",
    "    \n",
    "    for i, j, k in zip (pc1, pc2, classlabels) :\n",
    "        \n",
    "        row = CalculateBin(i, pc1max, pc1min, bincount)\n",
    "        col = CalculateBin(j, pc2max, pc2min, bincount)\n",
    "        if(k == 8):\n",
    "            HPosClass[row][col] += 1\n",
    "        else:\n",
    "            HNegClass[row][col] += 1\n",
    "            \n",
    "    return HPosClass, HNegClass\n",
    "\n",
    "# print (\"harro\",P)"
   ]
  },
  {
   "cell_type": "code",
   "execution_count": 16,
   "metadata": {
    "collapsed": false
   },
   "outputs": [
    {
     "name": "stdout",
     "output_type": "stream",
     "text": [
      "pc1 max:  2154.40731732\n",
      "pc1 min:  -960.146247242\n",
      "pc2 max:  1295.79239611\n",
      "pc2 min:  -1280.78283154\n",
      "Number of positive samples (8):  5851\n",
      "Number of negative samples (1):  6742\n",
      "Positive Class Mean Vector:  640.724426973 87.5140451914\n",
      "Negative Class Mean Vector:  -556.048445894 -75.9484838943\n",
      "[[ 640.72442697   87.51404519]]\n"
     ]
    }
   ],
   "source": [
    "HPosClassifier, HNegClassifier = build2DHistogramClassifier(25, Pc1List, Pc2List, T)\n",
    "numPositiveSamples = list(T).count(8)\n",
    "numNegativeSamples = list(T).count(1)\n",
    "print (\"Number of positive samples (8): \",numPositiveSamples)\n",
    "print (\"Number of negative samples (1): \",numNegativeSamples)\n",
    "pc1positive = []\n",
    "pc1negative = []\n",
    "pc2positive = []\n",
    "pc2negative = []\n",
    "for i, j, k in zip (Pc1List, Pc2List, T) :\n",
    "    if (k == 8):\n",
    "        pc1positive.append(i)\n",
    "        pc2positive.append(j)\n",
    "    else:\n",
    "        pc1negative.append(i)\n",
    "        pc2negative.append(j)\n",
    "meanPc1Positive = np.mean(pc1positive)\n",
    "meanPc2Positive = np.mean(pc2positive)\n",
    "meanPc1Negative = np.mean(pc1negative)\n",
    "meanPc2Negative = np.mean(pc2negative)\n",
    "print(\"Positive Class Mean Vector: \",meanPc1Positive,meanPc2Positive)\n",
    "print(\"Negative Class Mean Vector: \",meanPc1Negative,meanPc2Negative)\n",
    "\n",
    "positiveMeanVector = np.matrix([[meanPc1Positive, meanPc2Positive]])\n",
    "negativeMeanVector = np.matrix([[meanPc1Negative, meanPc2Negative]])\n",
    "\n",
    "print(positiveMeanVector)"
   ]
  },
  {
   "cell_type": "code",
   "execution_count": null,
   "metadata": {
    "collapsed": true
   },
   "outputs": [],
   "source": []
  },
  {
   "cell_type": "markdown",
   "metadata": {},
   "source": [
    "## Bayes"
   ]
  },
  {
   "cell_type": "code",
   "execution_count": 17,
   "metadata": {
    "collapsed": false
   },
   "outputs": [
    {
     "name": "stdout",
     "output_type": "stream",
     "text": [
      "[[ 196462.88819148   10925.12488228]\n",
      " [  10925.12488228   77543.27409883]]\n"
     ]
    }
   ],
   "source": [
    "positiveCovariance = np.cov([pc1positive, pc2positive])\n",
    "print (positiveCovariance)"
   ]
  },
  {
   "cell_type": "code",
   "execution_count": 18,
   "metadata": {
    "collapsed": false
   },
   "outputs": [
    {
     "name": "stdout",
     "output_type": "stream",
     "text": [
      "[[  89032.38349435 -100387.65188909]\n",
      " [-100387.65188909  475845.92943365]]\n"
     ]
    }
   ],
   "source": [
    "negativeCovariance = np.cov([pc1negative, pc2negative])\n",
    "print(negativeCovariance)"
   ]
  },
  {
   "cell_type": "code",
   "execution_count": 19,
   "metadata": {
    "collapsed": true
   },
   "outputs": [],
   "source": [
    "def calculateBayesianProbability(Cov1, Cov2, Query, Mean1, Mean2,\n",
    "                                 Num1, Num2):\n",
    "    x = Num1 * calculatePDF(Cov1, Query, Mean1)\n",
    "    \n",
    "    y = Num2 * calculatePDF(Cov2, Query, Mean2)\n",
    "    \n",
    "    \n",
    "    probability = x / (x + y)\n",
    "    return probability\n",
    "\n",
    "def calculatePDF(Cov, Query, Mean) :\n",
    "    return ((1/(2 * np.pi * np.sqrt(np.linalg.det(Cov)))) * \n",
    "            np.exp(-(1/2) *(np.subtract(Query, Mean)) * np.linalg.inv(Cov) * \n",
    "                  np.subtract(Query, Mean).transpose()))"
   ]
  },
  {
   "cell_type": "code",
   "execution_count": null,
   "metadata": {
    "collapsed": true
   },
   "outputs": [],
   "source": []
  },
  {
   "cell_type": "markdown",
   "metadata": {},
   "source": [
    "## Testing"
   ]
  },
  {
   "cell_type": "code",
   "execution_count": 20,
   "metadata": {
    "collapsed": false
   },
   "outputs": [
    {
     "name": "stdout",
     "output_type": "stream",
     "text": [
      "Check shape of matrix (12593, 784)\n",
      "Check Mins and Max Values 0 255\n",
      "\n",
      "Check training vector by plotting image \n",
      "\n"
     ]
    },
    {
     "data": {
      "image/png": "[encoded data removed]",
      "text/plain": [
       "<matplotlib.figure.Figure at 0x112b5a710>"
      ]
     },
     "metadata": {},
     "output_type": "display_data"
    }
   ],
   "source": [
    "from pylab import *\n",
    "from numpy import *\n",
    "import scipy.sparse as sparse\n",
    "import scipy.linalg as linalg\n",
    "\n",
    "imagestest, labelstest = load_mnist('testing', digits=[1,8], path='../DataFiles/MNISTFiles')\n",
    "flatimagestest = list()\n",
    "for i in imagestest:\n",
    "    flatimagestest.append(i.ravel())\n",
    "Xtest = np.asarray(flatimagestest)\n",
    "print(\"Check shape of matrix\", X.shape)\n",
    "print(\"Check Mins and Max Values\",np.amin(X),np.amax(X))\n",
    "print(\"\\nCheck training vector by plotting image \\n\")\n",
    "\n",
    "plt.imshow(Xtest[10].reshape(28, 28),interpolation='None', cmap=cm.gray)\n",
    "show()"
   ]
  },
  {
   "cell_type": "code",
   "execution_count": 21,
   "metadata": {
    "collapsed": true
   },
   "outputs": [],
   "source": [
    "def convertQuery (x, mu, v1, v2) :\n",
    "    z = x - mu\n",
    "    lala = np.matrix(np.array([v1, v2]))\n",
    "    lala = lala.transpose()\n",
    "    p = np.dot(z, lala)\n",
    "    p1 = p[0, 0]\n",
    "    p2 = p[0, 1]\n",
    "    return p1, p2, z"
   ]
  },
  {
   "cell_type": "code",
   "execution_count": 22,
   "metadata": {
    "collapsed": false
   },
   "outputs": [
    {
     "name": "stdout",
     "output_type": "stream",
     "text": [
      "(2, 784)\n"
     ]
    }
   ],
   "source": [
    "ev1 = V[0:1,:][0]\n",
    "ev2 = V[1:2,:][0]\n",
    "fml = np.matrix(np.array([ev1, ev2]))\n",
    "print (fml.shape)\n",
    "\n",
    "# p1test, p2test = convertQuery(Xtest[0], mu, ev1, ev2)"
   ]
  },
  {
   "cell_type": "code",
   "execution_count": 23,
   "metadata": {
    "collapsed": false
   },
   "outputs": [
    {
     "name": "stdout",
     "output_type": "stream",
     "text": [
      "2109\n",
      "2109\n",
      "Overall Results Bayesian:  0.9867235656709341\n"
     ]
    },
    {
     "name": "stderr",
     "output_type": "stream",
     "text": [
      "/Users/gabrielchen/anaconda3/lib/python3.6/site-packages/ipykernel/__main__.py:15: RuntimeWarning: invalid value encountered in int_scalars\n"
     ]
    }
   ],
   "source": [
    "# import warnings\n",
    "# warnings.filterwarnings('ignore')\n",
    "def queryHistogram (p1q, p2q, hist, pc1max, pc2max, pc1min, pc2min, bincount) :\n",
    "        row = CalculateBin(p1q, pc1max, pc1min, bincount)\n",
    "        col = CalculateBin(p2q, pc2max, pc2min, bincount)\n",
    "        return hist[row][col]\n",
    "    \n",
    "\n",
    "def histogramQueryEr (QueryMatrix, mu, eigen1, eigen2, pc1max, pc1min, pc2max, pc2min, bincount, posClassi, negClassi) :\n",
    "    results = list()\n",
    "    for queries in QueryMatrix :\n",
    "        p1test, p2test, z = convertQuery(queries, mu, eigen1, eigen2)\n",
    "        popo = queryHistogram(p1test, p2test, posClassi, pc1max, pc2max, pc1min, pc2min, 25)\n",
    "        negneg = queryHistogram(p1test, p2test, negClassi, pc1max, pc2max, pc1min, pc2min, 25)\n",
    "        if (popo / (popo+negneg) > negneg / (popo+negneg)) :\n",
    "            results.append(8)\n",
    "        else :\n",
    "            results.append(1)\n",
    "    return results\n",
    "\n",
    "histogramResults = histogramQueryEr(Xtest, mu, ev1, ev2, Pc1Max, Pc1Min, Pc2Max, Pc2Min, 25, HPosClassifier, HNegClassifier)\n",
    "\n",
    "print (len(histogramResults))\n",
    "print (len(labelstest))\n",
    "\n",
    "def compareTestAndActual (test, actual) :\n",
    "    fail = 0\n",
    "    succeed = 0\n",
    "    for i, j in zip (test, actual) :\n",
    "        if(i != j):\n",
    "            fail+=1\n",
    "        else:\n",
    "            succeed+=1\n",
    "    return succeed / (fail + succeed)\n",
    "\n",
    "overallResultsHistogram = compareTestAndActual(histogramResults, labelstest)\n",
    "print (\"Overall Results Bayesian: \", overallResultsHistogram)"
   ]
  },
  {
   "cell_type": "code",
   "execution_count": 24,
   "metadata": {
    "collapsed": false
   },
   "outputs": [
    {
     "data": {
      "image/png": "[encoded data removed]",
      "text/plain": [
       "<matplotlib.figure.Figure at 0x1485a2a90>"
      ]
     },
     "metadata": {},
     "output_type": "display_data"
    },
    {
     "name": "stdout",
     "output_type": "stream",
     "text": [
      "xp pc vector:  [735.34804401117685, 174.23649427801519]\n",
      "Xptest result:  1.0\n"
     ]
    },
    {
     "data": {
      "image/png": "[encoded data removed]",
      "text/plain": [
       "<matplotlib.figure.Figure at 0x1486d9550>"
      ]
     },
     "metadata": {},
     "output_type": "display_data"
    },
    {
     "name": "stdout",
     "output_type": "stream",
     "text": [
      "xn pc vector:  [-862.51112384767316, -280.2669936416745]\n",
      "Xntest result:  1.0\n"
     ]
    }
   ],
   "source": [
    "xp = Xtest[10]\n",
    "xp1t, xp2t, xpz = convertQuery(xp, mu, ev1, ev2)\n",
    "xppopo = queryHistogram(xp1t, xp2t, HPosClassifier, Pc1Max, Pc2Max, Pc1Min, Pc2Min, 25)\n",
    "xpnegneg = queryHistogram(xp1t, xp2t, HNegClassifier, Pc1Max, Pc2Max, Pc1Min, Pc2Min, 25)\n",
    "xptestresult = xppopo / (xppopo + xpnegneg)\n",
    "\n",
    "xpr = np.dot(np.matrix([xp1t, xp2t]), np.matrix(np.array([ev1, ev2])))\n",
    "xprec = xpr + mu\n",
    "plt.imshow(xprec.reshape(28, 28),interpolation='None', cmap=cm.gray)\n",
    "show()\n",
    "print (\"xp pc vector: \", [xp1t, xp2t])\n",
    "print (\"Xptest result: \", xptestresult)\n",
    "\n",
    "xn = Xtest[0]\n",
    "xn1t, xn2t, xnz = convertQuery(xn, mu, ev1, ev2)\n",
    "xnpopo = queryHistogram(xn1t, xn2t, HPosClassifier, Pc1Max, Pc2Max, Pc1Min, Pc2Min, 25)\n",
    "xnnegneg = queryHistogram(xn1t, xn2t, HNegClassifier, Pc1Max, Pc2Max, Pc1Min, Pc2Min, 25)\n",
    "xntestresult = xnnegneg / (xnpopo + xnnegneg)\n",
    "             \n",
    "xnr = np.dot(np.matrix([xn1t, xn2t]), np.matrix(np.array([ev1, ev2])))\n",
    "xnrec = xnr + mu\n",
    "plt.imshow(xnrec.reshape(28, 28),interpolation='None', cmap=cm.gray)\n",
    "show()\n",
    "print (\"xn pc vector: \", [xn1t, xn2t])\n",
    "print (\"Xntest result: \", xntestresult)"
   ]
  },
  {
   "cell_type": "code",
   "execution_count": 25,
   "metadata": {
    "collapsed": false
   },
   "outputs": [
    {
     "name": "stdout",
     "output_type": "stream",
     "text": [
      "bayesianProbXP:  [[ 0.9999987]]\n",
      "bayesianProbXN:  [[ 0.99390277]]\n",
      "Overall Results Bayesian:  0.9871977240398293\n"
     ]
    }
   ],
   "source": [
    "bayesianProbXP = calculateBayesianProbability(positiveCovariance, negativeCovariance, np.matrix([xp1t, xp2t]), \n",
    "                             positiveMeanVector, negativeMeanVector, numPositiveSamples, numNegativeSamples)\n",
    "print(\"bayesianProbXP: \", bayesianProbXP)\n",
    "bayesianProbXNpositive = calculateBayesianProbability(positiveCovariance, negativeCovariance, np.matrix([xn1t, xn2t]), \n",
    "                             positiveMeanVector, negativeMeanVector, numPositiveSamples, numNegativeSamples)\n",
    "print(\"bayesianProbXN: \", 1-bayesianProbXNpositive )\n",
    "\n",
    "bayesianFatResults = list()\n",
    "for q in Xtest :\n",
    "    p111, p222, zzz = convertQuery(q, mu, ev1, ev2)\n",
    "    popbaye = calculateBayesianProbability(positiveCovariance, negativeCovariance, np.matrix([p111, p222]), \n",
    "                             positiveMeanVector, negativeMeanVector, numPositiveSamples, numNegativeSamples)\n",
    "    negbaye = 1-popbaye\n",
    "    if(popbaye > negbaye) :\n",
    "        bayesianFatResults.append(8)\n",
    "    else :\n",
    "        bayesianFatResults.append(1)\n",
    "\n",
    "overallResultsBayesian = compareTestAndActual(bayesianFatResults, labelstest)\n",
    "print (\"Overall Results Bayesian: \", overallResultsBayesian)"
   ]
  },
  {
   "cell_type": "code",
   "execution_count": 26,
   "metadata": {
    "collapsed": true
   },
   "outputs": [],
   "source": [
    "import pandas as pd\n",
    "writer = pd.ExcelWriter(\"../DataFiles/Assignment3Outputs.xlsx\")\n",
    "\n",
    "meanVectorDF = pd.DataFrame(data=mu[0:])\n",
    "meanVectorDF.to_excel(writer, 'mean vector')\n",
    "\n",
    "firstEigenVectorDF = pd.DataFrame(data=V[0:1,:])\n",
    "firstEigenVectorDF.to_excel(writer, 'first eigenvector')\n",
    "\n",
    "secondEigenVectorDF = pd.DataFrame(data=V[1:2,:])\n",
    "secondEigenVectorDF.to_excel(writer, 'second eigenvector')\n",
    "\n",
    "positiveHistogramDF = pd.DataFrame(data=HPosClassifier[0:,0:])\n",
    "negativeHistogramDF = pd.DataFrame(data=HNegClassifier[0:,0:])\n",
    "positiveHistogramDF.to_excel(writer, 'positive histogram')\n",
    "negativeHistogramDF.to_excel(writer, 'negative histogram')\n",
    "\n",
    "xpDF = pd.DataFrame(data=xp[0:])\n",
    "xnDF = pd.DataFrame(data=xn[0:])\n",
    "xpDF.to_excel(writer, 'xp')\n",
    "xnDF.to_excel(writer, 'xn')\n",
    "\n",
    "xpzDF = pd.DataFrame(data=xpz[0:])\n",
    "xnzDF = pd.DataFrame(data=xnz[0:])\n",
    "xpzDF.to_excel(writer, 'xpz1')\n",
    "xnzDF.to_excel(writer, 'xnz1')\n",
    "\n",
    "xprDF = pd.DataFrame(data=xpr[0:])\n",
    "xnrDF = pd.DataFrame(data=xnr[0:])\n",
    "xprDF.to_excel(writer, 'xpr')\n",
    "xnrDF.to_excel(writer, 'xnr')\n",
    "\n",
    "xprecDF = pd.DataFrame(data=xprec[0:])\n",
    "xnrecDF = pd.DataFrame(data=xnrec[0:])\n",
    "xprecDF.to_excel(writer, 'xprec')\n",
    "xnrecDF.to_excel(writer, 'xnrec')\n",
    "\n"
   ]
  },
  {
   "cell_type": "code",
   "execution_count": null,
   "metadata": {
    "collapsed": true
   },
   "outputs": [],
   "source": []
  }
 ],
 "metadata": {
  "kernelspec": {
   "display_name": "Python 3",
   "language": "python",
   "name": "python3"
  },
  "language_info": {
   "codemirror_mode": {
    "name": "ipython",
    "version": 3
   },
   "file_extension": ".py",
   "mimetype": "text/x-python",
   "name": "python",
   "nbconvert_exporter": "python",
   "pygments_lexer": "ipython3",
   "version": "3.6.0"
  }
 },
 "nbformat": 4,
 "nbformat_minor": 2
}
