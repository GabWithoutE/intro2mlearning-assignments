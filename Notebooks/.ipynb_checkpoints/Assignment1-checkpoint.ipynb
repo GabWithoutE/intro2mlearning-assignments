{
 "cells": [
  {
   "cell_type": "markdown",
   "metadata": {
    "collapsed": true
   },
   "source": [
    "# Introduction To Machine Learning in Python : Assignment 1"
   ]
  },
  {
   "cell_type": "markdown",
   "metadata": {},
   "source": [
    "## Tasks\n",
    "1. The data set that you need is in one of the sheets of the Excel file Assignment_1_Data_and_Template.xlsx (attached). The other sheets contain shaded cells meant to be filled in by you. Examine the sheets carefully and understand what must be computed or described. Except for cutting and pasting your results in the specific cells provided, do not alter the spreadsheet in any other way. This is the only recognized means of submitting this assignment.\n",
    "2. Construct separate histograms for male and female heights using 32 bins. Do not use a built in histogram program. Also remember that the histograms are the 2 lists of 32 counts that you enter into the correct place in the spreadsheet. They are not just pretty pictures!\n",
    "3. Based on the histograms, compute the probability of being female of individuals with heights 55, 60, 65, 70, 75 and 80 inches.\n",
    "4. Find the parameters of Gaussian models for the 2 PDFs to describe the data. You may use built in functions to compute the model parameters. (Means, Standard Deviations, Sample Sizes)\n",
    "5. Use the Bayesian Formula with the model parameters found above to re-compute the probability of being female of individuals with heights 55, 60, 65, 70, 75 and 80 inches. Do not use a built in function for computing the pdf.\n",
    "6. Repeat steps 2 through 5 using just the first 50 height entries in the data file. Now what are your observations regarding histogram classifiers and Bayesian classifiers?"
   ]
  },
  {
   "cell_type": "markdown",
   "metadata": {},
   "source": [
    "## Histogram Classifiers"
   ]
  },
  {
   "cell_type": "markdown",
   "metadata": {},
   "source": [
    "### Constructing Histograms Classifier"
   ]
  },
  {
   "cell_type": "code",
   "execution_count": 4,
   "metadata": {
    "collapsed": true
   },
   "outputs": [],
   "source": [
    "\"\"\"\n",
    "Function for constructing a histogram by building an array \n",
    "where indices represents bins with counts.\n",
    "Returns: Histograms for Male and Female\n",
    "\n",
    "Parameters:\n",
    "    X = feature array\n",
    "    T = class label array\n",
    "    B = number of bins\n",
    "    xmin = feature range minimum\n",
    "    xmax = feature range maximum\n",
    "\"\"\"\n",
    "import numpy as np\n",
    "\n",
    "def Build1DHistogramClassifier(X,T,B,xmin,xmax):\n",
    "    HF = np.zeros(B).astype('int32')\n",
    "    HM = np.zeros(B).astype('int32')\n",
    "    binindices = (np.round(((B-1)*(X-xmin)/(xmax-xmin)))).astype('int32')\n",
    "    for i,b in enumerate(binindices):\n",
    "        if T[i]=='Female':\n",
    "            HF[b]+=1\n",
    "        else:\n",
    "            HM[b]+=1\n",
    "    return [HF, HM]"
   ]
  },
  {
   "cell_type": "code",
   "execution_count": 5,
   "metadata": {
    "collapsed": false,
    "scrolled": true
   },
   "outputs": [
    {
     "name": "stdout",
     "output_type": "stream",
     "text": [
      "[array([3, 0, 0, 0, 0, 0, 0, 0, 0, 0, 0, 0, 0, 0, 0, 0, 0, 0, 0, 0, 0, 0, 0,\n",
      "       0, 0, 0, 0, 0, 0, 1, 0, 1], dtype=int32), array([0, 0, 0, 0, 0, 0, 0, 0, 0, 0, 0, 1, 0, 0, 0, 0, 0, 2, 0, 0, 0, 0, 0,\n",
      "       0, 0, 0, 0, 0, 0, 0, 0, 0], dtype=int32)]\n"
     ]
    }
   ],
   "source": [
    "# Example Constructing Histogram\n",
    "hi = np.zeros(32).astype('int32')\n",
    "\n",
    "classLabelArray = np.array(['Female','Male','Female','Female',\n",
    "                            'Male','Female','Female','Male'])\n",
    "featureArray = np.array([67, 50, 40, 65, 55, 40, 40, 55])\n",
    "\n",
    "out = Build1DHistogramClassifier(featureArray, classLabelArray, 32, \n",
    "                                 40, 67)\n",
    "print(out)"
   ]
  },
  {
   "cell_type": "markdown",
   "metadata": {},
   "source": [
    "### Building Histogram Classifiers from the Dataset"
   ]
  },
  {
   "cell_type": "code",
   "execution_count": 269,
   "metadata": {
    "collapsed": false
   },
   "outputs": [],
   "source": [
    "# Get DataFrom Excel File\n",
    "import pandas as pd\n",
    "file = 'Assignment_1_Data_and_Template.xlsx'\n",
    "xl = 0\n",
    "try:\n",
    "    xl = pd.ExcelFile(\"./DataFiles/\" + file)\n",
    "except FileNotFoundError as error:\n",
    "    xl = pd.ExcelFile(\n",
    "        '../DataFiles/'  + file)\n",
    "\n",
    "df = xl.parse('Data')\n",
    "\n",
    "genderArray = np.array(df.Gender.values.tolist())\n",
    "\n",
    "heightArray = np.array((df.Height_Feet * 12) + df.Height_Inches)\n",
    "\n",
    "heightArrayMax = heightArray.max()\n",
    "\n",
    "heightArrayMin = heightArray.min()\n"
   ]
  },
  {
   "cell_type": "code",
   "execution_count": 270,
   "metadata": {
    "collapsed": true
   },
   "outputs": [],
   "source": [
    "# Use only first 50 values in height array\n",
    "heightArray = heightArray[0:50]"
   ]
  },
  {
   "cell_type": "code",
   "execution_count": 271,
   "metadata": {
    "collapsed": false
   },
   "outputs": [
    {
     "name": "stdout",
     "output_type": "stream",
     "text": [
      "Feature Array Minimum: 52\n",
      "Feature Array Maximum: 83\n",
      "Histograms... \n",
      " Female: [   3    5   12   24   44  101  163  260  404  549  693  869 1076 1013  951\n",
      "  823  695  494  299  217  110   58   20   12    5    0    0    0    0    0\n",
      "    0    0] \n",
      " Male: [  0   0   0   0   0   0   0   0   1  10  14  53 117 241 369 500 700 787\n",
      " 849 882 873 779 610 432 274 155  83  38  24   5   3   1]\n"
     ]
    }
   ],
   "source": [
    "# Build Histogram Classifier for the Dataset\n",
    "histograms = Build1DHistogramClassifier(X = heightArray,T = genderArray\n",
    "                           ,B = 32,xmin = heightArrayMin,\n",
    "                           xmax=heightArrayMax)\n",
    "# histograms = Build1DHistogramClassifier(X = heightArray[0:50], T = genderArray[0:50], B = 32,\n",
    "#                                        xmin = heightArray.min(), xmax = heightArray.max())\n",
    "print(\"Feature Array Minimum: %s\"%heightArrayMin)\n",
    "print(\"Feature Array Maximum: %s\"%heightArrayMax)\n",
    "print(\"Histograms... \\n Female: %s \\n Male: %s\"%(histograms[0], histograms[1]))\n"
   ]
  },
  {
   "cell_type": "markdown",
   "metadata": {
    "collapsed": false
   },
   "source": [
    "### Histogram Classifier Query"
   ]
  },
  {
   "cell_type": "code",
   "execution_count": 272,
   "metadata": {
    "collapsed": true
   },
   "outputs": [],
   "source": [
    "# Query Inputs\n",
    "queriesArrayRaw = [55, 60, 65, 70, 75, 80]"
   ]
  },
  {
   "cell_type": "code",
   "execution_count": 273,
   "metadata": {
    "collapsed": false
   },
   "outputs": [],
   "source": [
    "# Calculate the bin number based based on the feature and the range\n",
    "def computeQueryBinIndex(bins, query, rangeMin, rangeMax):\n",
    "    return np.round(bins * (query - rangeMin) / (rangeMax - rangeMin)).astype('int32')\n"
   ]
  },
  {
   "cell_type": "code",
   "execution_count": 274,
   "metadata": {
    "collapsed": false
   },
   "outputs": [
    {
     "name": "stdout",
     "output_type": "stream",
     "text": [
      "Adjusted queries array: [3, 8, 13, 18, 23, 28]\n"
     ]
    }
   ],
   "source": [
    "# Build query array adjusted from feature query value to bin indices\n",
    "queriesArrayAdjusted = []\n",
    "\n",
    "for i in queriesArrayRaw :\n",
    "    queriesArrayAdjusted.append(computeQueryBinIndex(32 - 1 ,i, heightArray.min(),\n",
    "                                                     heightArray.max())) \n",
    "\n",
    "print (\"Adjusted queries array: %s\"%queriesArrayAdjusted)"
   ]
  },
  {
   "cell_type": "code",
   "execution_count": 275,
   "metadata": {
    "collapsed": false
   },
   "outputs": [
    {
     "name": "stdout",
     "output_type": "stream",
     "text": [
      "Query Results Female: [24, 404, 1013, 299, 12, 0]\n",
      "Query Results Male: [0, 1, 241, 849, 432, 24]\n"
     ]
    }
   ],
   "source": [
    "# Query the Histogram Classifiers\n",
    "queryResultsMale = []\n",
    "queryResultsFemale = []\n",
    "\n",
    "for i in queriesArrayAdjusted :\n",
    "    queryResultsFemale.append(histograms[0][i])\n",
    "    queryResultsMale.append(histograms[1][i])\n",
    "print (\"Query Results Female: %s\" % queryResultsFemale)\n",
    "print (\"Query Results Male: %s\" % queryResultsMale)"
   ]
  },
  {
   "cell_type": "code",
   "execution_count": 276,
   "metadata": {
    "collapsed": false
   },
   "outputs": [
    {
     "name": "stdout",
     "output_type": "stream",
     "text": [
      "Probability Female... \n",
      " Given Queries [55, 60, 65, 70, 75, 80]\n",
      " Probabilities: [1.0, 0.9975308641975309, 0.80781499202551832, 0.26045296167247389, 0.027027027027027029, 0.0]\n"
     ]
    }
   ],
   "source": [
    "probabilityFemale = []\n",
    "\n",
    "# Calculate probabilities\n",
    "for i, j in zip(queryResultsFemale, queryResultsMale) :\n",
    "    probabilityFemale.append(i / (i + j))\n",
    "print(\"Probability Female... \\n Given Queries %s\\n Probabilities: %s\"\n",
    "      %(queriesArrayRaw, probabilityFemale))"
   ]
  },
  {
   "cell_type": "markdown",
   "metadata": {},
   "source": [
    "## Bayesian Classifier"
   ]
  },
  {
   "cell_type": "markdown",
   "metadata": {},
   "source": [
    "### Calculate male height mean and female height mean, training set size, and standard deviation"
   ]
  },
  {
   "cell_type": "code",
   "execution_count": 279,
   "metadata": {
    "collapsed": false
   },
   "outputs": [
    {
     "name": "stdout",
     "output_type": "stream",
     "text": [
      "Male height average: 70.768077\n",
      "Female height average: 64.725730\n"
     ]
    }
   ],
   "source": [
    "# Separate male and female height arrays\n",
    "maleHeightArray = []\n",
    "femaleHeightArray = []\n",
    "\n",
    "for i, j in zip(heightArray, genderArray):\n",
    "    if j == 'Male' :\n",
    "        maleHeightArray.append(i)\n",
    "    else :\n",
    "        femaleHeightArray.append(i)\n",
    "        \n",
    "meanMaleHeight = np.average(maleHeightArray)\n",
    "meanFemaleHeight = np.average(femaleHeightArray)\n",
    "print(\"Male height average: %f\"%meanMaleHeight)\n",
    "print(\"Female height average: %f\"%meanFemaleHeight)\n"
   ]
  },
  {
   "cell_type": "code",
   "execution_count": 280,
   "metadata": {
    "collapsed": false
   },
   "outputs": [
    {
     "name": "stdout",
     "output_type": "stream",
     "text": [
      "Number of Males: 7800\n",
      "Number of Females: 8900\n"
     ]
    }
   ],
   "source": [
    "# Find the number of Males and Females in the training set\n",
    "maleTrainingSetSize = len(maleHeightArray)\n",
    "femaleTrainingSetSize = len(femaleHeightArray)\n",
    "print(\"Number of Males: %i\" %maleTrainingSetSize)\n",
    "print(\"Number of Females: %i\" %femaleTrainingSetSize)"
   ]
  },
  {
   "cell_type": "code",
   "execution_count": 281,
   "metadata": {
    "collapsed": false
   },
   "outputs": [
    {
     "name": "stdout",
     "output_type": "stream",
     "text": [
      "Standard deviation of height in MALE training set:\n",
      " 3.309455\n",
      "Standard deviation of height in FEMALE training set:\n",
      " 3.478239\n"
     ]
    }
   ],
   "source": [
    "# Find the standard deviation in the Male and Female training sets\n",
    "maleHeightStandardDeviation = np.std(maleHeightArray)\n",
    "femaleHeightStandardDeviation = np.std(femaleHeightArray)\n",
    "print(\"Standard deviation of height in MALE training set:\\n %f\" %maleHeightStandardDeviation)\n",
    "print(\"Standard deviation of height in FEMALE training set:\\n %f\" \n",
    "      %femaleHeightStandardDeviation)\n"
   ]
  },
  {
   "cell_type": "markdown",
   "metadata": {},
   "source": [
    "### Calculate the Probabilities at Queries Using the Bayesian Classifier"
   ]
  },
  {
   "cell_type": "code",
   "execution_count": 282,
   "metadata": {
    "collapsed": false
   },
   "outputs": [],
   "source": [
    "# Calculates the pdf \n",
    "def gaussianDistributionProbabilityDensity (query, mean, stddev):\n",
    "    return (1/(np.sqrt(np.pi * 2) * stddev)) * np.exp((-1/2) * np.square((query - mean)/stddev))"
   ]
  },
  {
   "cell_type": "code",
   "execution_count": 283,
   "metadata": {
    "collapsed": false
   },
   "outputs": [
    {
     "name": "stdout",
     "output_type": "stream",
     "text": [
      "Probability given height that individual is female: [0.99946000008647262, 0.98848581542193614, 0.83173037860746613, 0.26104194258468161, 0.030386242179453057, 0.0034390925216817927]\n"
     ]
    }
   ],
   "source": [
    "# Calculate the probabilities of female at a given height\n",
    "probabilitiesFemale = []\n",
    "for i in queriesArrayRaw :\n",
    "    probabilitiesFemale.append(\n",
    "        femaleTrainingSetSize * \n",
    "        gaussianDistributionProbabilityDensity(i, meanFemaleHeight, \n",
    "                                               femaleHeightStandardDeviation)\n",
    "    / ((femaleTrainingSetSize * \n",
    "        gaussianDistributionProbabilityDensity(i, meanFemaleHeight, \n",
    "                                               femaleHeightStandardDeviation))\n",
    "      + (maleTrainingSetSize * \n",
    "         gaussianDistributionProbabilityDensity(i, meanMaleHeight, \n",
    "                                                maleHeightStandardDeviation))))\n",
    "print(\"Probability given height that individual is female: %s\"%probabilitiesFemale)"
   ]
  },
  {
   "cell_type": "markdown",
   "metadata": {},
   "source": [
    "## Comparing Bayesian Classifier and Histogram Classifier\n",
    "- use only first 50 entries in training set\n",
    "- reuse original max and min values\n",
    "- use same number of bins"
   ]
  },
  {
   "cell_type": "markdown",
   "metadata": {},
   "source": [
    "### Histogram Classifier Results"
   ]
  },
  {
   "cell_type": "markdown",
   "metadata": {},
   "source": [
    "P(female|heights) = [nan, 1.0, 1.0, 0.25, nan, nan]\n",
    " nan = 0/0"
   ]
  },
  {
   "cell_type": "markdown",
   "metadata": {},
   "source": [
    "### Bayesian Classifier Results"
   ]
  },
  {
   "cell_type": "markdown",
   "metadata": {},
   "source": [
    "P(female|heights) = [0.99994194980202489, 0.99655330803656506, 0.89179013301596843, 0.28515273971975497, 0.031746270866381675, 0.004555443018553729]"
   ]
  },
  {
   "cell_type": "markdown",
   "metadata": {},
   "source": [
    "Observations: Histogram classifiers become highly inaccurate without the proper amount of data. Bayesian classifiers are more usable with smaller sample sizes, as it predicts the probabilities based on a smooth mathematical model as apposed to directly from data which may be incomplete. We can see with Histogram classifiers that another issue is that there are issues with undefined probabilities due to there being no data being at the queries."
   ]
  },
  {
   "cell_type": "code",
   "execution_count": null,
   "metadata": {
    "collapsed": true
   },
   "outputs": [],
   "source": []
  }
 ],
 "metadata": {
  "kernelspec": {
   "display_name": "Python 3",
   "language": "python",
   "name": "python3"
  },
  "language_info": {
   "codemirror_mode": {
    "name": "ipython",
    "version": 3
   },
   "file_extension": ".py",
   "mimetype": "text/x-python",
   "name": "python",
   "nbconvert_exporter": "python",
   "pygments_lexer": "ipython3",
   "version": "3.6.0"
  }
 },
 "nbformat": 4,
 "nbformat_minor": 0
}
